{
 "cells": [
  {
   "cell_type": "markdown",
   "metadata": {},
   "source": [
    "介绍了如何简单读取流数据源"
   ]
  },
  {
   "cell_type": "code",
   "execution_count": 1,
   "metadata": {},
   "outputs": [],
   "source": [
    "import time\n",
    "import os\n",
    "import sys"
   ]
  },
  {
   "cell_type": "code",
   "execution_count": 5,
   "metadata": {},
   "outputs": [
    {
     "name": "stdout",
     "output_type": "stream",
     "text": [
      "os.stat_result(st_mode=33188, st_ino=8612584813, st_dev=16777222, st_nlink=1, st_uid=501, st_gid=20, st_size=99, st_atime=1556174225, st_mtime=1556174223, st_ctime=1556174223)\n"
     ]
    }
   ],
   "source": [
    "filename = './datasrc/flow.txt'\n",
    "with open(filename) as f:\n",
    "    # 蒋指针指向文件末\n",
    "    filesize = os.stat(filename)[6]    # 文档信息，st_size，即切片6为指针\n",
    "    f.seek(filesize)   # 移到文件末\n",
    "    while True:\n",
    "        where = f.tell()\n",
    "        line = f.readline()    # 逐行读\n",
    "        if not line:    # 还未有新行\n",
    "            time.sleep(1)     # 每隔1s进行操作\n",
    "            f.seek(where)\n",
    "        else:\n",
    "            print(line)"
   ]
  },
  {
   "cell_type": "markdown",
   "metadata": {},
   "source": [
    "在更复杂的数据管道中，需要启用消息队列（message quene）"
   ]
  },
  {
   "cell_type": "code",
   "execution_count": null,
   "metadata": {},
   "outputs": [],
   "source": []
  }
 ],
 "metadata": {
  "kernelspec": {
   "display_name": "Python 3",
   "language": "python",
   "name": "python3"
  },
  "language_info": {
   "codemirror_mode": {
    "name": "ipython",
    "version": 3
   },
   "file_extension": ".py",
   "mimetype": "text/x-python",
   "name": "python",
   "nbconvert_exporter": "python",
   "pygments_lexer": "ipython3",
   "version": "3.6.7"
  }
 },
 "nbformat": 4,
 "nbformat_minor": 2
}
