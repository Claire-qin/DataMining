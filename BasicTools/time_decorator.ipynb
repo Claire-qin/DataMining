{
 "cells": [
  {
   "cell_type": "markdown",
   "metadata": {},
   "source": [
    "编写一个用于计算函数耗时的装饰器（参照https://github.com/realpython/materials/blob/master/pandas-fast-flexible-intuitive/tutorial/timer.py） "
   ]
  },
  {
   "cell_type": "code",
   "execution_count": 17,
   "metadata": {},
   "outputs": [],
   "source": [
    "import functools\n",
    "import itertools\n",
    "import gc\n",
    "import sys\n",
    "from timeit import default_timer as _timer"
   ]
  },
  {
   "cell_type": "code",
   "execution_count": 18,
   "metadata": {},
   "outputs": [],
   "source": [
    "def timeit(_func=None, *, repeat=3, number=1000, file=sys.stdout):\n",
    "    _repeat = functools.partial(itertools.repeat, None)\n",
    "    def wrap(func):\n",
    "        @functools.wraps(func)\n",
    "        def _timeit(*args, **kwargs):\n",
    "            gcold = gc.isenabled()\n",
    "            gc.disable()\n",
    "            \n",
    "            try:\n",
    "                # 外循环：repeat\n",
    "                trials = []\n",
    "                for _ in _repeat(repeat):\n",
    "                    # 内循环  the number of calls within each repeat.\n",
    "                    total = 0\n",
    "                    for _ in _repeat(number):\n",
    "                        start = _timer()\n",
    "                        result = func(*args, **kwargs)\n",
    "                        end = _timer()\n",
    "                        total += end - start\n",
    "                    trials.append(total)\n",
    "                \n",
    "                best = min(trials) / number\n",
    "                print(\n",
    "                    \"Best of {} trials with {} function\"\n",
    "                    \" calls per trial:\".format(repeat, number)\n",
    "                )\n",
    "                print(\n",
    "                    \"Function `{}` ran in average\"\n",
    "                    \" of {:0.3f} seconds.\".format(func.__name__, best),\n",
    "                    end=\"\\n\\n\",\n",
    "                    file=file,\n",
    "                )\n",
    "                \n",
    "            finally:\n",
    "                if gcold:\n",
    "                    gc.enable()\n",
    "            # Result is returned *only once*\n",
    "            return result\n",
    "\n",
    "        return _timeit\n",
    "\n",
    "    if _func is None:\n",
    "        return wrap\n",
    "    else:\n",
    "        return wrap(_func)"
   ]
  },
  {
   "cell_type": "code",
   "execution_count": 21,
   "metadata": {},
   "outputs": [
    {
     "name": "stdout",
     "output_type": "stream",
     "text": [
      "Best of 3 trials with 1000 function calls per trial:\n",
      "Function `f` ran in average of 0.000 seconds.\n",
      "\n"
     ]
    },
    {
     "data": {
      "text/plain": [
       "'0-1-2-3-4-5-6-7-8-9-10-11-12-13-14-15-16-17-18-19-20-21-22-23-24-25-26-27-28-29-30-31-32-33-34-35-36-37-38-39-40-41-42-43-44-45-46-47-48-49-50-51-52-53-54-55-56-57-58-59-60-61-62-63-64-65-66-67-68-69-70-71-72-73-74-75-76-77-78-79-80-81-82-83-84-85-86-87-88-89-90-91-92-93-94-95-96-97-98-99'"
      ]
     },
     "execution_count": 21,
     "metadata": {},
     "output_type": "execute_result"
    }
   ],
   "source": [
    "@timeit\n",
    "def f():\n",
    "    return \"-\".join(str(n) for n in range(100))\n",
    "\n",
    "f()"
   ]
  },
  {
   "cell_type": "code",
   "execution_count": 22,
   "metadata": {},
   "outputs": [
    {
     "name": "stdout",
     "output_type": "stream",
     "text": [
      "Best of 3 trials with 100000 function calls per trial:\n",
      "Function `g` ran in average of 0.000 seconds.\n",
      "\n"
     ]
    },
    {
     "data": {
      "text/plain": [
       "'0-1-2-3-4-5-6-7-8-9'"
      ]
     },
     "execution_count": 22,
     "metadata": {},
     "output_type": "execute_result"
    }
   ],
   "source": [
    "@timeit(number=100000)\n",
    "def g():\n",
    "    return \"-\".join(str(n) for n in range(10))\n",
    "\n",
    "g()"
   ]
  }
 ],
 "metadata": {
  "kernelspec": {
   "display_name": "Python 3",
   "language": "python",
   "name": "python3"
  },
  "language_info": {
   "codemirror_mode": {
    "name": "ipython",
    "version": 3
   },
   "file_extension": ".py",
   "mimetype": "text/x-python",
   "name": "python",
   "nbconvert_exporter": "python",
   "pygments_lexer": "ipython3",
   "version": "3.6.7"
  },
  "toc": {
   "base_numbering": 1,
   "nav_menu": {},
   "number_sections": true,
   "sideBar": true,
   "skip_h1_title": false,
   "title_cell": "Table of Contents",
   "title_sidebar": "Contents",
   "toc_cell": false,
   "toc_position": {},
   "toc_section_display": true,
   "toc_window_display": false
  }
 },
 "nbformat": 4,
 "nbformat_minor": 2
}
