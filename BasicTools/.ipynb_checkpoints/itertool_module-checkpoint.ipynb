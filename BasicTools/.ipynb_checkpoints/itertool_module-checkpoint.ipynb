{
 "cells": [
  {
   "cell_type": "markdown",
   "metadata": {},
   "source": [
    "介绍了itertools模块中提供的一些迭代器"
   ]
  },
  {
   "cell_type": "markdown",
   "metadata": {},
   "source": [
    "#### 1. Count计数迭代器（等差数列）"
   ]
  },
  {
   "cell_type": "code",
   "execution_count": 4,
   "metadata": {},
   "outputs": [
    {
     "name": "stdout",
     "output_type": "stream",
     "text": [
      "10\n",
      "12\n",
      "14\n"
     ]
    }
   ],
   "source": [
    "# count(start[, step])\n",
    "from itertools import count\n",
    "counter = count(10, 2)\n",
    "for i in counter:\n",
    "    print(i)\n",
    "    if i>13:\n",
    "        break"
   ]
  },
  {
   "cell_type": "markdown",
   "metadata": {},
   "source": [
    "#### 2. Cycle循环迭代器"
   ]
  },
  {
   "cell_type": "code",
   "execution_count": 6,
   "metadata": {},
   "outputs": [
    {
     "name": "stdout",
     "output_type": "stream",
     "text": [
      "1\n",
      "2\n",
      "3\n",
      "1\n",
      "2\n",
      "3\n"
     ]
    }
   ],
   "source": [
    "# cycle(p), p为序列\n",
    "from itertools import cycle\n",
    "cycler = cycle([1,2,3])\n",
    "flag = 1\n",
    "for i in cycler:\n",
    "    flag += 1\n",
    "    print(i)\n",
    "    if flag >6:\n",
    "        break"
   ]
  },
  {
   "cell_type": "markdown",
   "metadata": {},
   "source": [
    "#### 3. repeat重复迭代器"
   ]
  },
  {
   "cell_type": "code",
   "execution_count": 7,
   "metadata": {},
   "outputs": [
    {
     "name": "stdout",
     "output_type": "stream",
     "text": [
      "[1, 2, 3]\n",
      "[1, 2, 3]\n",
      "[1, 2, 3]\n"
     ]
    }
   ],
   "source": [
    "# repeat(elem[, n]) 重复n次或无数次（不指定n）\n",
    "from itertools import repeat\n",
    "repeator = repeat([1,2,3],3)\n",
    "for i in repeator:\n",
    "    print(i)"
   ]
  },
  {
   "cell_type": "markdown",
   "metadata": {},
   "source": [
    "#### 4. chain连接序列迭代器"
   ]
  },
  {
   "cell_type": "code",
   "execution_count": 8,
   "metadata": {},
   "outputs": [
    {
     "name": "stdout",
     "output_type": "stream",
     "text": [
      "1\n",
      "2\n",
      "a\n",
      "x\n",
      "y\n",
      "bb\n",
      "aa\n"
     ]
    }
   ],
   "source": [
    "# chain(p, q, ...)\n",
    "from itertools import chain\n",
    "chainer = chain([1,2], 'a', ('x', 'y'), {'aa', 'bb'})\n",
    "for i in chainer:\n",
    "    print(i)"
   ]
  },
  {
   "cell_type": "markdown",
   "metadata": {},
   "source": [
    "#### 5. compressor交叉判断迭代器"
   ]
  },
  {
   "cell_type": "code",
   "execution_count": 9,
   "metadata": {},
   "outputs": [
    {
     "name": "stdout",
     "output_type": "stream",
     "text": [
      "a\n",
      "c\n",
      "e\n"
     ]
    }
   ],
   "source": [
    "# compress(data d, selector s),逐个对s序列进行判断，若为True，输出对应的d值\n",
    "# 注意无论data或selector均应当是可迭代的\n",
    "from itertools import compress\n",
    "compressor = compress('abcde', [1,0,1,0,1])\n",
    "for i in compressor:\n",
    "    print(i)"
   ]
  },
  {
   "cell_type": "markdown",
   "metadata": {},
   "source": [
    "#### 6. dropwhile头去真迭代器"
   ]
  },
  {
   "cell_type": "code",
   "execution_count": 10,
   "metadata": {},
   "outputs": [
    {
     "name": "stdout",
     "output_type": "stream",
     "text": [
      "6\n",
      "4\n",
      "3\n"
     ]
    }
   ],
   "source": [
    "# 当函数f执行返回假时, 开始迭代序列\n",
    "# dropwhile(func f, seq q)\n",
    "from itertools import dropwhile\n",
    "dropwhiler = dropwhile(lambda x:x<5, [1, 2, 6, 4, 3])\n",
    "for i in dropwhiler:\n",
    "    print(i)"
   ]
  },
  {
   "cell_type": "markdown",
   "metadata": {},
   "source": [
    "#### 7. takewhile头取真迭代器"
   ]
  },
  {
   "cell_type": "code",
   "execution_count": 27,
   "metadata": {},
   "outputs": [
    {
     "name": "stdout",
     "output_type": "stream",
     "text": [
      "1\n",
      "2\n",
      "3\n",
      "4\n"
     ]
    }
   ],
   "source": [
    "# 从序列头开始取值，直至不满足func条件，若第一个元素就不满足func，返回None\n",
    "# takewhile(func f, seq q)\n",
    "from itertools import takewhile\n",
    "nums = count(1)\n",
    "takewhiler = takewhile(lambda x:x<5, nums)\n",
    "for i in takewhiler:\n",
    "    print(i)"
   ]
  },
  {
   "cell_type": "markdown",
   "metadata": {},
   "source": [
    "#### 8. groupby分组迭代器"
   ]
  },
  {
   "cell_type": "code",
   "execution_count": 17,
   "metadata": {},
   "outputs": [
    {
     "name": "stdout",
     "output_type": "stream",
     "text": [
      "2009-09-02\n",
      "('2009-09-02', 11)\n",
      "('2009-09-02', 3)\n",
      "--------------------\n",
      "2009-09-03\n",
      "('2009-09-03', 10)\n",
      "('2009-09-03', 4)\n",
      "('2009-09-03', 22)\n",
      "--------------------\n",
      "2009-09-06\n",
      "('2009-09-06', 33)\n",
      "--------------------\n"
     ]
    }
   ],
   "source": [
    "# 按照keyfunc函数对序列每个元素执行后的结果分组(每个分组是一个迭代器), 返回这些分组的迭代器\n",
    "# groupby(iterable[, keyfunc])\n",
    "from itertools import groupby\n",
    "from operator import itemgetter\n",
    "\n",
    "things = [('2009-09-02', 11),\n",
    "          ('2009-09-02', 3),\n",
    "          ('2009-09-03', 10),\n",
    "          ('2009-09-03', 4),\n",
    "          ('2009-09-03', 22),\n",
    "          ('2009-09-06', 33)]\n",
    "\n",
    "for key, items in groupby(things, itemgetter(0)):\n",
    "    print(key)\n",
    "    for subitem in items:\n",
    "        print(subitem)\n",
    "    print('-' * 20)"
   ]
  },
  {
   "cell_type": "code",
   "execution_count": 23,
   "metadata": {},
   "outputs": [
    {
     "name": "stdout",
     "output_type": "stream",
     "text": [
      "2009-09-03\n",
      "('2009-09-03', 4)\n",
      "--------------------\n",
      "2009-09-02\n",
      "('2009-09-02', 11)\n",
      "('2009-09-02', 3)\n",
      "--------------------\n",
      "2009-09-06\n",
      "('2009-09-06', 33)\n",
      "--------------------\n",
      "2009-09-03\n",
      "('2009-09-03', 10)\n",
      "('2009-09-03', 22)\n",
      "--------------------\n"
     ]
    }
   ],
   "source": [
    "# 注意：在利用key进行groupby之前必须保证已经sort，因为这个操作是逐段的,只会把相邻的重复元素挑出来放在一起\n",
    "# 错误操作\n",
    "things = [('2009-09-03', 4),\n",
    "          ('2009-09-02', 11),\n",
    "          ('2009-09-02', 3),\n",
    "          ('2009-09-06', 33),\n",
    "          ('2009-09-03', 10),\n",
    "          ('2009-09-03', 22)\n",
    "          ]\n",
    "\n",
    "for key, items in groupby(things, itemgetter(0)):\n",
    "    print(key)\n",
    "    for subitem in items:\n",
    "        print(subitem)\n",
    "    print('-' * 20)"
   ]
  },
  {
   "cell_type": "code",
   "execution_count": 19,
   "metadata": {},
   "outputs": [
    {
     "name": "stdout",
     "output_type": "stream",
     "text": [
      "2009-09-02\n",
      "('2009-09-02', 11)\n",
      "('2009-09-02', 3)\n",
      "--------------------\n",
      "2009-09-03\n",
      "('2009-09-03', 4)\n",
      "('2009-09-03', 10)\n",
      "('2009-09-03', 22)\n",
      "--------------------\n",
      "2009-09-06\n",
      "('2009-09-06', 33)\n",
      "--------------------\n"
     ]
    }
   ],
   "source": [
    "# 注意：在利用key进行groupby之前必须保证已经sort，因为这个操作是逐段的\n",
    "# 正确操作\n",
    "things = [('2009-09-03', 4),\n",
    "          ('2009-09-02', 11),\n",
    "          ('2009-09-02', 3),\n",
    "          ('2009-09-06', 33),\n",
    "          ('2009-09-03', 10),\n",
    "          ('2009-09-03', 22)\n",
    "          ]\n",
    "things.sort(key=itemgetter(0))\n",
    "\n",
    "for key, items in groupby(things, itemgetter(0)):\n",
    "    print(key)\n",
    "    for subitem in items:\n",
    "        print(subitem)\n",
    "    print('-' * 20)"
   ]
  },
  {
   "cell_type": "markdown",
   "metadata": {},
   "source": [
    "#### 9. filterfalse反过滤迭代器"
   ]
  },
  {
   "cell_type": "code",
   "execution_count": 21,
   "metadata": {},
   "outputs": [],
   "source": [
    "# filterfalse(func, seq)\n",
    "# 对函数func执行返回真的元素的迭代器\n",
    "# 注意与compress的区别，compress的selector必须是迭代的与data一一对应，而ifilter则是单个func"
   ]
  },
  {
   "cell_type": "code",
   "execution_count": 28,
   "metadata": {},
   "outputs": [
    {
     "name": "stdout",
     "output_type": "stream",
     "text": [
      "6\n",
      "4\n",
      "3\n"
     ]
    }
   ],
   "source": [
    "from itertools import filterfalse\n",
    "filter_res = filterfalse(lambda x:x<3, [1, 2, 6, 4, 3])\n",
    "for i in filter_res:\n",
    "    print(i)"
   ]
  },
  {
   "cell_type": "code",
   "execution_count": 29,
   "metadata": {},
   "outputs": [
    {
     "data": {
      "text/plain": [
       "[1, 2]"
      ]
     },
     "execution_count": 29,
     "metadata": {},
     "output_type": "execute_result"
    }
   ],
   "source": [
    "# itertool中未提供直接的filter迭代器，可通过filterfalse进行反向操作，或利用内置的filter函数\n",
    "# filter函数返回的是filter对象，并非迭代器\n",
    "filter_res2 = filter(lambda x:x<3, [1, 2, 6, 4, 3])\n",
    "list(filter_res2)"
   ]
  },
  {
   "cell_type": "markdown",
   "metadata": {},
   "source": [
    "#### 10. islice切片迭代器"
   ]
  },
  {
   "cell_type": "code",
   "execution_count": 30,
   "metadata": {},
   "outputs": [
    {
     "name": "stdout",
     "output_type": "stream",
     "text": [
      "c\n",
      "e\n",
      "g\n"
     ]
    }
   ],
   "source": [
    "# islice(seq[, start], stop[, step])\n",
    "# 返回序列seq的从start开始到stop结束的步长为step的元素的迭代器\n",
    "from itertools import islice\n",
    "slicer = islice('abcdefg', 2, 8,2)\n",
    "for i in slicer:\n",
    "    print(i)"
   ]
  },
  {
   "cell_type": "code",
   "execution_count": 39,
   "metadata": {},
   "outputs": [
    {
     "name": "stdout",
     "output_type": "stream",
     "text": [
      "c\n",
      "e\n",
      "g\n"
     ]
    }
   ],
   "source": [
    "# islice可以视作python内置的slice的懒惰版本，islice为迭代器，而slice为slice类\n",
    "for i in 'a b c d e f g'.split()[slice(2,8,2)]:\n",
    "    print(i)"
   ]
  },
  {
   "cell_type": "markdown",
   "metadata": {},
   "source": [
    "#### 11. permutations随机排序的迭代器"
   ]
  },
  {
   "cell_type": "code",
   "execution_count": 40,
   "metadata": {},
   "outputs": [
    {
     "name": "stdout",
     "output_type": "stream",
     "text": [
      "(1, 2, 3)\n",
      "(1, 2, 4)\n",
      "(1, 3, 2)\n",
      "(1, 3, 4)\n",
      "(1, 4, 2)\n"
     ]
    }
   ],
   "source": [
    "# permutations(p[, r])\n",
    "# 返回p中任意取r个元素做排列的元组的迭代器\n",
    "from itertools import permutations\n",
    "flag = 0\n",
    "for i in permutations([1, 2, 3, 4], 3):\n",
    "    flag += 1\n",
    "    print(i)\n",
    "    if flag >4:\n",
    "        break"
   ]
  },
  {
   "cell_type": "markdown",
   "metadata": {},
   "source": [
    "#### 12. product笛卡尔迭代器"
   ]
  },
  {
   "cell_type": "code",
   "execution_count": 42,
   "metadata": {},
   "outputs": [
    {
     "name": "stdout",
     "output_type": "stream",
     "text": [
      "(1, 4, 6)\n",
      "(1, 4, 7)\n",
      "(1, 5, 6)\n",
      "(1, 5, 7)\n",
      "(2, 4, 6)\n",
      "(2, 4, 7)\n",
      "(2, 5, 6)\n",
      "(2, 5, 7)\n",
      "(3, 4, 6)\n",
      "(3, 4, 7)\n",
      "(3, 5, 6)\n",
      "(3, 5, 7)\n"
     ]
    }
   ],
   "source": [
    "# product(iter1, iter2, ... iterN, [repeat=1])\n",
    "# 创建一个迭代器，生成表示item1，item2等中的项目的笛卡尔积的元组，repeat是一个关键字参数，指定重复生成序列的次数\n",
    "from itertools import product\n",
    "for i in product([1, 2, 3], [4, 5], [6, 7]):\n",
    "    print(i)"
   ]
  },
  {
   "cell_type": "markdown",
   "metadata": {},
   "source": [
    "#### 13. combinations子序列迭代器(无重复元素)"
   ]
  },
  {
   "cell_type": "code",
   "execution_count": 43,
   "metadata": {},
   "outputs": [
    {
     "name": "stdout",
     "output_type": "stream",
     "text": [
      "(1, 2)\n",
      "(1, 3)\n",
      "(2, 3)\n"
     ]
    }
   ],
   "source": [
    "# combinations(iterable, r)\n",
    "# 创建一个迭代器，返回iterable中所有长度为r的子序列，返回的子序列中的项按输入iterable中的顺序排序\n",
    "from itertools import combinations\n",
    "for i in combinations([1, 2, 3], 2):\n",
    "    print(i)"
   ]
  },
  {
   "cell_type": "markdown",
   "metadata": {},
   "source": [
    "#### 14. combinations_with_replacement子序列迭代器(有重复元素)"
   ]
  },
  {
   "cell_type": "code",
   "execution_count": 45,
   "metadata": {},
   "outputs": [
    {
     "name": "stdout",
     "output_type": "stream",
     "text": [
      "(1, 1)\n",
      "(1, 2)\n",
      "(1, 3)\n",
      "(2, 2)\n",
      "(2, 3)\n",
      "(3, 3)\n"
     ]
    }
   ],
   "source": [
    "# combinations_with_replacement(iterable, r)\n",
    "# 创建一个迭代器，返回iterable中所有长度为r的子序列，返回的子序列中的项按输入iterable中的顺序排序\n",
    "from itertools import combinations_with_replacement\n",
    "for i in combinations_with_replacement([1, 2, 3], 2):\n",
    "    print(i)"
   ]
  },
  {
   "cell_type": "markdown",
   "metadata": {},
   "source": [
    "#### 15. starmap函数扫略迭代器"
   ]
  },
  {
   "cell_type": "code",
   "execution_count": 51,
   "metadata": {},
   "outputs": [
    {
     "name": "stdout",
     "output_type": "stream",
     "text": [
      "32\n",
      "9\n",
      "1000\n"
     ]
    }
   ],
   "source": [
    "# starmap(func, seq)\n",
    "# 对应map函数\n",
    "# 对seq中的每个数据进行fun映射\n",
    "from itertools import starmap\n",
    "for i in starmap(lambda x,y: x**y, [(2,5), (3,2),(10,3)]):\n",
    "    print(i)"
   ]
  },
  {
   "cell_type": "markdown",
   "metadata": {},
   "source": [
    "#### 16. accumulate累进函数迭代器"
   ]
  },
  {
   "cell_type": "code",
   "execution_count": 53,
   "metadata": {},
   "outputs": [
    {
     "name": "stdout",
     "output_type": "stream",
     "text": [
      "1\n",
      "3\n",
      "6\n",
      "10\n",
      "15\n"
     ]
    }
   ],
   "source": [
    "# accumulate(p[, func]) --> p0, p0+p1, p0+p1+p2\n",
    "# 对p中的元素进行累进式的func\n",
    "from itertools import accumulate\n",
    "for i in accumulate([1,2,3,4,5], lambda x, y: x+y):\n",
    "    print(i)"
   ]
  },
  {
   "cell_type": "markdown",
   "metadata": {},
   "source": [
    "#### 17. zip_longest迭代器"
   ]
  },
  {
   "cell_type": "code",
   "execution_count": 54,
   "metadata": {},
   "outputs": [
    {
     "name": "stdout",
     "output_type": "stream",
     "text": [
      "(1, 4, 6)\n",
      "(2, 5, 7)\n",
      "(3, None, 8)\n",
      "(None, None, 9)\n"
     ]
    }
   ],
   "source": [
    "# zip_longest(p, q, ...) --> (p[0], q[0]), (p[1], q[1]), 缺省值用None填充\n",
    "# 类似于zip操作\n",
    "from itertools import zip_longest\n",
    "for i in zip_longest([1,2,3], [4,5], [6, 7,8,9]):\n",
    "    print(i)"
   ]
  },
  {
   "cell_type": "code",
   "execution_count": null,
   "metadata": {},
   "outputs": [],
   "source": []
  }
 ],
 "metadata": {
  "kernelspec": {
   "display_name": "Python 3",
   "language": "python",
   "name": "python3"
  },
  "language_info": {
   "codemirror_mode": {
    "name": "ipython",
    "version": 3
   },
   "file_extension": ".py",
   "mimetype": "text/x-python",
   "name": "python",
   "nbconvert_exporter": "python",
   "pygments_lexer": "ipython3",
   "version": "3.6.7"
  }
 },
 "nbformat": 4,
 "nbformat_minor": 2
}
