{
 "cells": [
  {
   "cell_type": "markdown",
   "metadata": {},
   "source": [
    "介绍了python中的偏函数（partial function）<br>"
   ]
  },
  {
   "cell_type": "markdown",
   "metadata": {},
   "source": [
    "偏函数和装饰器一样，它可以扩展函数的功能，但又不完成等价于装饰器。<br>\n",
    "通常应用的场景是当我们要频繁调用某个函数时，其中某些参数是已知的固定值，如果我们反复调用这个函数多次， 看上去似乎代码有些冗余，而偏函数的出现就是为了很少的解决这一个问题。"
   ]
  },
  {
   "cell_type": "code",
   "execution_count": 1,
   "metadata": {},
   "outputs": [],
   "source": [
    "from functools import partial"
   ]
  },
  {
   "cell_type": "code",
   "execution_count": 13,
   "metadata": {},
   "outputs": [
    {
     "name": "stdout",
     "output_type": "stream",
     "text": [
      "\n"
     ]
    }
   ],
   "source": [
    "\"\"\"\n",
    "func = functools.partial(func, *args, **keywords)\n",
    "func: 需要被扩展的函数，返回的函数其实是一个类 func 的函数\n",
    "*args: 需要被固定的位置参数\n",
    "**kwargs: 需要被固定的关键字参数\n",
    "如果在原来的函数 func 中关键字不存在，将会扩展，如果存在，则会覆盖\n",
    "\"\"\"\n",
    "print(\"\")"
   ]
  },
  {
   "cell_type": "markdown",
   "metadata": {},
   "source": [
    "#### 示例1：多个数求和"
   ]
  },
  {
   "cell_type": "code",
   "execution_count": 5,
   "metadata": {},
   "outputs": [
    {
     "name": "stdout",
     "output_type": "stream",
     "text": [
      "150\n"
     ]
    }
   ],
   "source": [
    "# 求三个数（其中一个固定为100）的和\n",
    "# 方法一：直接在函数中写入，但这样在100变动时需要直接修改原函数\n",
    "def add_1(*args):\n",
    "    return sum(args) + 100\n",
    "print(add_1(20, 30))"
   ]
  },
  {
   "cell_type": "code",
   "execution_count": 7,
   "metadata": {},
   "outputs": [
    {
     "name": "stdout",
     "output_type": "stream",
     "text": [
      "150\n"
     ]
    }
   ],
   "source": [
    "# 方法二：在外部函数中写入，但这样的封装对于复杂功能显得很low\n",
    "def add_2(*args):\n",
    "    return sum(args)\n",
    "print(add_2(20, 30)+100)"
   ]
  },
  {
   "cell_type": "code",
   "execution_count": 9,
   "metadata": {},
   "outputs": [
    {
     "name": "stdout",
     "output_type": "stream",
     "text": [
      "150\n"
     ]
    }
   ],
   "source": [
    "# 方法三：利用偏函数进行重构\n",
    "def add_3(*args):\n",
    "    return sum(args)\n",
    "\n",
    "add = partial(add_3, 100)\n",
    "print(add(20, 30))"
   ]
  },
  {
   "cell_type": "code",
   "execution_count": 10,
   "metadata": {},
   "outputs": [
    {
     "name": "stdout",
     "output_type": "stream",
     "text": [
      "250\n"
     ]
    }
   ],
   "source": [
    "add = partial(add_3, 200)\n",
    "print(add(20, 30))"
   ]
  },
  {
   "cell_type": "markdown",
   "metadata": {},
   "source": [
    "#### DIY的偏函数"
   ]
  },
  {
   "cell_type": "code",
   "execution_count": 39,
   "metadata": {},
   "outputs": [],
   "source": [
    "# 偏函数相当于如下功能\n",
    "def partial_DIY(func, *args, **kwargs):\n",
    "    def newfunc(*fargs, **fkwargs):\n",
    "        fixed_kwargs = kwargs.copy()\n",
    "        fkwargs.update(fixed_kwargs)\n",
    "        return func(*args, *fargs, **fkwargs)\n",
    "    return newfunc"
   ]
  },
  {
   "cell_type": "code",
   "execution_count": 37,
   "metadata": {},
   "outputs": [
    {
     "name": "stdout",
     "output_type": "stream",
     "text": [
      "150\n"
     ]
    }
   ],
   "source": [
    "def add_4(*args):\n",
    "        return sum(args)\n",
    "\n",
    "add_diy = partial_DIY(add_4, 100)\n",
    "print(add_diy(20, 30))"
   ]
  },
  {
   "cell_type": "markdown",
   "metadata": {},
   "source": [
    "#### 示例2： 求多点对固定点的距离"
   ]
  },
  {
   "cell_type": "markdown",
   "metadata": {},
   "source": [
    "当然，可以直接用Numpy进行广播操作，这里尝试用偏函数做"
   ]
  },
  {
   "cell_type": "code",
   "execution_count": 42,
   "metadata": {},
   "outputs": [
    {
     "data": {
      "text/plain": [
       "[(6, 6),\n",
       " (10, 5),\n",
       " (0, 8),\n",
       " (6, 6),\n",
       " (10, 0),\n",
       " (10, 8),\n",
       " (8, 3),\n",
       " (2, 3),\n",
       " (10, 1),\n",
       " (1, 1)]"
      ]
     },
     "execution_count": 42,
     "metadata": {},
     "output_type": "execute_result"
    }
   ],
   "source": [
    "# 随机生成一组数\n",
    "import random\n",
    "data_generator = lambda: random.randint(0,10)\n",
    "sources = [(data_generator(), data_generator()) for _ in range(10)]\n",
    "sources"
   ]
  },
  {
   "cell_type": "code",
   "execution_count": 43,
   "metadata": {},
   "outputs": [],
   "source": [
    "# 距离计算\n",
    "import math\n",
    "def euclid_dist(p1, p2):\n",
    "    x1, y1 = p1\n",
    "    x2, y2 = p2\n",
    "    return math.sqrt((x1-x2)**2+(y1-y2)**2)"
   ]
  },
  {
   "cell_type": "code",
   "execution_count": 44,
   "metadata": {},
   "outputs": [
    {
     "data": {
      "text/plain": [
       "7.0710678118654755"
      ]
     },
     "execution_count": 44,
     "metadata": {},
     "output_type": "execute_result"
    }
   ],
   "source": [
    "# 结合固定的目标点坐标定义为偏函数\n",
    "target = (5, 5)\n",
    "partial_euclid_dist = partial(euclid_dist, target)\n",
    "partial_euclid_dist((0, 0))"
   ]
  },
  {
   "cell_type": "code",
   "execution_count": 45,
   "metadata": {},
   "outputs": [],
   "source": [
    "sources.sort(key=partial_euclid_dist)"
   ]
  },
  {
   "cell_type": "code",
   "execution_count": 46,
   "metadata": {},
   "outputs": [
    {
     "data": {
      "text/plain": [
       "[(6, 6),\n",
       " (6, 6),\n",
       " (8, 3),\n",
       " (2, 3),\n",
       " (10, 5),\n",
       " (1, 1),\n",
       " (0, 8),\n",
       " (10, 8),\n",
       " (10, 1),\n",
       " (10, 0)]"
      ]
     },
     "execution_count": 46,
     "metadata": {},
     "output_type": "execute_result"
    }
   ],
   "source": [
    "sources"
   ]
  },
  {
   "cell_type": "markdown",
   "metadata": {},
   "source": [
    "#### 示例3：if-else逻辑的统一管理"
   ]
  },
  {
   "cell_type": "markdown",
   "metadata": {},
   "source": [
    "以一段文字的正则化处理为例，其涉及到冗长而复杂的逻辑判断，可以通过偏函数进行统一管理"
   ]
  },
  {
   "cell_type": "markdown",
   "metadata": {},
   "source": [
    "##### 直接硬编码"
   ]
  },
  {
   "cell_type": "code",
   "execution_count": 59,
   "metadata": {},
   "outputs": [
    {
     "data": {
      "text/plain": [
       "['12345678', 'Academic', 'Bonus']"
      ]
     },
     "execution_count": 59,
     "metadata": {},
     "output_type": "execute_result"
    }
   ],
   "source": [
    "text_raw = \"12345678\\nAcademic\\nBonus\"\n",
    "text = text_raw.split('\\n')\n",
    "text"
   ]
  },
  {
   "cell_type": "code",
   "execution_count": 60,
   "metadata": {},
   "outputs": [
    {
     "name": "stdout",
     "output_type": "stream",
     "text": [
      "文本以数字开头\n",
      "文本以A开头\n",
      "文本以B开头\n"
     ]
    }
   ],
   "source": [
    "import re\n",
    "for t in text:\n",
    "    if re.search(r'^A', t):\n",
    "        print(\"文本以A开头\")\n",
    "    elif re.search(r'^B', t):\n",
    "        print(\"文本以B开头\") \n",
    "    elif re.search(r'^\\d', t):\n",
    "        print(\"文本以数字开头\")"
   ]
  },
  {
   "cell_type": "markdown",
   "metadata": {},
   "source": [
    "这种功能写法的问题在于未对正则匹配进行命名，可能会导致阅读的问题"
   ]
  },
  {
   "cell_type": "markdown",
   "metadata": {},
   "source": [
    "##### 进行函数封装"
   ]
  },
  {
   "cell_type": "code",
   "execution_count": 63,
   "metadata": {},
   "outputs": [
    {
     "name": "stdout",
     "output_type": "stream",
     "text": [
      "文本以数字开头\n",
      "文本以A开头\n",
      "文本以B开头\n"
     ]
    }
   ],
   "source": [
    "def starts_with_A(t):\n",
    "    return re.search(r'^A', t)\n",
    "\n",
    "def starts_with_B(t):\n",
    "    return re.search(r'^B', t)\n",
    "\n",
    "def starts_with_digit(t):\n",
    "    return re.search(r'^\\d', t)\n",
    "\n",
    "for t in text:\n",
    "    if starts_with_A(t):\n",
    "        print(\"文本以A开头\")\n",
    "    elif starts_with_B(t):\n",
    "        print(\"文本以B开头\")\n",
    "    elif starts_with_digit(t):\n",
    "        print(\"文本以数字开头\")"
   ]
  },
  {
   "cell_type": "markdown",
   "metadata": {},
   "source": [
    "##### 进一步进行偏函数的封装"
   ]
  },
  {
   "cell_type": "code",
   "execution_count": 64,
   "metadata": {},
   "outputs": [
    {
     "name": "stdout",
     "output_type": "stream",
     "text": [
      "文本以数字开头\n",
      "文本以A开头\n",
      "文本以B开头\n"
     ]
    }
   ],
   "source": [
    "starts_with_A_partial = partial(re.search, r'^A')\n",
    "starts_with_B_partial = partial(re.search, r'^B')\n",
    "starts_with_digit_partial = partial(re.search, r'^\\d')\n",
    "for t in text:\n",
    "    if starts_with_A_partial(t):\n",
    "        print(\"文本以A开头\")\n",
    "    elif starts_with_B_partial(t):\n",
    "        print(\"文本以B开头\")\n",
    "    elif starts_with_digit_partial(t):\n",
    "        print(\"文本以数字开头\")"
   ]
  },
  {
   "cell_type": "code",
   "execution_count": null,
   "metadata": {},
   "outputs": [],
   "source": []
  }
 ],
 "metadata": {
  "kernelspec": {
   "display_name": "Python 3",
   "language": "python",
   "name": "python3"
  },
  "language_info": {
   "codemirror_mode": {
    "name": "ipython",
    "version": 3
   },
   "file_extension": ".py",
   "mimetype": "text/x-python",
   "name": "python",
   "nbconvert_exporter": "python",
   "pygments_lexer": "ipython3",
   "version": "3.6.7"
  },
  "toc": {
   "base_numbering": 1,
   "nav_menu": {},
   "number_sections": true,
   "sideBar": true,
   "skip_h1_title": false,
   "title_cell": "Table of Contents",
   "title_sidebar": "Contents",
   "toc_cell": false,
   "toc_position": {},
   "toc_section_display": true,
   "toc_window_display": false
  }
 },
 "nbformat": 4,
 "nbformat_minor": 2
}
