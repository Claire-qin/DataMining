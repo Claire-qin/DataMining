{
 "cells": [
  {
   "cell_type": "markdown",
   "metadata": {},
   "source": [
    "介绍了functools.wraps的基本用法"
   ]
  },
  {
   "cell_type": "markdown",
   "metadata": {},
   "source": [
    "#### 默认情况下，被装饰器装饰后的函数已经是另外的一个函数（一般成包装器wrapper），其函数属性会丢失"
   ]
  },
  {
   "cell_type": "code",
   "execution_count": 4,
   "metadata": {},
   "outputs": [
    {
     "name": "stdout",
     "output_type": "stream",
     "text": [
      "3\n"
     ]
    }
   ],
   "source": [
    "# 以斐波切纳函数为基函数\n",
    "def fibonacci(n):\n",
    "    if n in (0, 1):\n",
    "        return n\n",
    "    else:\n",
    "        return fibonacci(n-1)+fibonacci(n-2)\n",
    "\n",
    "print(fibonacci(4))    "
   ]
  },
  {
   "cell_type": "code",
   "execution_count": 6,
   "metadata": {},
   "outputs": [
    {
     "name": "stdout",
     "output_type": "stream",
     "text": [
      "fibonacci((1,),{})->1\n",
      "fibonacci((0,),{})->0\n",
      "fibonacci((2,),{})->1\n",
      "fibonacci((1,),{})->1\n",
      "fibonacci((3,),{})->2\n",
      "fibonacci((1,),{})->1\n",
      "fibonacci((0,),{})->0\n",
      "fibonacci((2,),{})->1\n",
      "fibonacci((4,),{})->3\n",
      "3\n",
      "<function decorator.<locals>.wrapper at 0x101fac488>\n",
      "Help on function wrapper in module __main__:\n",
      "\n",
      "wrapper(*args, **kwargs)\n",
      "\n",
      "None\n"
     ]
    }
   ],
   "source": [
    "# 普通的装饰器\n",
    "def decorator(func):   \n",
    "    def wrapper(*args, **kwargs):\n",
    "        result = func(*args, **kwargs)\n",
    "        print('%s(%r,%r)->%r'%(func.__name__,args,kwargs,result))\n",
    "        return result\n",
    "    return wrapper\n",
    "\n",
    "@decorator\n",
    "def fibonacci(n):\n",
    "    if n in (0, 1):\n",
    "        return n\n",
    "    else:\n",
    "        return fibonacci(n-1)+fibonacci(n-2)\n",
    "    \n",
    "print(fibonacci(4))\n",
    "print(fibonacci)\n",
    "print(help(fibonacci))"
   ]
  },
  {
   "cell_type": "markdown",
   "metadata": {},
   "source": [
    "可见经过装饰后的函数变成了新的wrapper"
   ]
  },
  {
   "cell_type": "markdown",
   "metadata": {},
   "source": [
    "#### 通过functools.wraps对原始装饰器内的基函数进行装饰，能够保留原函数的基本属性"
   ]
  },
  {
   "cell_type": "code",
   "execution_count": 7,
   "metadata": {},
   "outputs": [
    {
     "name": "stdout",
     "output_type": "stream",
     "text": [
      "fibonacci((1,),{})->1\n",
      "fibonacci((0,),{})->0\n",
      "fibonacci((2,),{})->1\n",
      "fibonacci((1,),{})->1\n",
      "fibonacci((3,),{})->2\n",
      "fibonacci((1,),{})->1\n",
      "fibonacci((0,),{})->0\n",
      "fibonacci((2,),{})->1\n",
      "fibonacci2((4,),{})->3\n",
      "3\n",
      "<function fibonacci2 at 0x101fac730>\n",
      "Help on function fibonacci2 in module __main__:\n",
      "\n",
      "fibonacci2(n)\n",
      "\n",
      "None\n"
     ]
    }
   ],
   "source": [
    "from functools import wraps\n",
    "\n",
    "# 普通的装饰器\n",
    "def decorator2(func):   \n",
    "    @wraps(func)\n",
    "    def wrapper(*args, **kwargs):\n",
    "        result = func(*args, **kwargs)\n",
    "        print('%s(%r,%r)->%r'%(func.__name__,args,kwargs,result))\n",
    "        return result\n",
    "    return wrapper\n",
    "\n",
    "@decorator2\n",
    "def fibonacci2(n):\n",
    "    if n in (0, 1):\n",
    "        return n\n",
    "    else:\n",
    "        return fibonacci(n-1)+fibonacci(n-2)\n",
    "    \n",
    "print(fibonacci2(4))\n",
    "print(fibonacci2)\n",
    "print(help(fibonacci2))"
   ]
  },
  {
   "cell_type": "code",
   "execution_count": null,
   "metadata": {},
   "outputs": [],
   "source": []
  }
 ],
 "metadata": {
  "kernelspec": {
   "display_name": "Python 3",
   "language": "python",
   "name": "python3"
  },
  "language_info": {
   "codemirror_mode": {
    "name": "ipython",
    "version": 3
   },
   "file_extension": ".py",
   "mimetype": "text/x-python",
   "name": "python",
   "nbconvert_exporter": "python",
   "pygments_lexer": "ipython3",
   "version": "3.6.7"
  },
  "toc": {
   "base_numbering": 1,
   "nav_menu": {},
   "number_sections": true,
   "sideBar": true,
   "skip_h1_title": false,
   "title_cell": "Table of Contents",
   "title_sidebar": "Contents",
   "toc_cell": false,
   "toc_position": {},
   "toc_section_display": true,
   "toc_window_display": false
  }
 },
 "nbformat": 4,
 "nbformat_minor": 2
}
