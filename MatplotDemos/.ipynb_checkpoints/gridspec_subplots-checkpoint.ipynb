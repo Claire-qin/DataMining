{
 "cells": [
  {
   "cell_type": "markdown",
   "metadata": {},
   "source": [
    "使用gridspec定义子图位置"
   ]
  },
  {
   "cell_type": "code",
   "execution_count": 1,
   "metadata": {},
   "outputs": [],
   "source": [
    "import matplotlib.pyplot as plt\n",
    "import numpy as np\n",
    "%matplotlib inline"
   ]
  },
  {
   "cell_type": "markdown",
   "metadata": {},
   "source": [
    "### 1. subplot2grid"
   ]
  },
  {
   "cell_type": "markdown",
   "metadata": {},
   "source": [
    "通过用subplot2grid， 提供网格的几何形状和网格中子图的位置"
   ]
  },
  {
   "cell_type": "code",
   "execution_count": 14,
   "metadata": {},
   "outputs": [
    {
     "data": {
      "image/png": "[encoded data removed]",
      "text/plain": [
       "<Figure size 432x288 with 1 Axes>"
      ]
     },
     "metadata": {},
     "output_type": "display_data"
    }
   ],
   "source": [
    "# 简单的单网格子图\n",
    "# 效果类似于 ax = plt.subplot(2,2,1)\n",
    "ax = plt.subplot2grid((3,3), (0,0))"
   ]
  },
  {
   "cell_type": "code",
   "execution_count": 18,
   "metadata": {},
   "outputs": [
    {
     "data": {
      "image/png": "[encoded data removed]",
      "text/plain": [
       "<Figure size 432x288 with 5 Axes>"
      ]
     },
     "metadata": {},
     "output_type": "display_data"
    }
   ],
   "source": [
    "# 复杂的子图空值\n",
    "ax1 = plt.subplot2grid((3,3),(0, 0), colspan=3)   \n",
    "ax2 = plt.subplot2grid((3,3),(1, 0), colspan=2)\n",
    "ax3 = plt.subplot2grid((3,3),(1, 2), rowspan=2)\n",
    "ax4 = plt.subplot2grid((3,3), (2,0))\n",
    "ax5 = plt.subplot2grid((3,3), (2,1))\n",
    "plt.show()"
   ]
  },
  {
   "cell_type": "markdown",
   "metadata": {},
   "source": [
    "### 2. GridSpec"
   ]
  },
  {
   "cell_type": "markdown",
   "metadata": {},
   "source": [
    "显式创建 GridSpec 并用它们创建子图"
   ]
  },
  {
   "cell_type": "code",
   "execution_count": 19,
   "metadata": {},
   "outputs": [
    {
     "data": {
      "image/png": "[encoded data removed]",
      "text/plain": [
       "<Figure size 432x288 with 1 Axes>"
      ]
     },
     "metadata": {},
     "output_type": "display_data"
    }
   ],
   "source": [
    "# 等价于 plt.subplot2grid((2,2), (0,0))\n",
    "import matplotlib.gridspec as gridspec\n",
    "gs = gridspec.GridSpec(2,2)   # 定义形状\n",
    "ax = plt.subplot(gs[0, 0])"
   ]
  },
  {
   "cell_type": "code",
   "execution_count": 24,
   "metadata": {},
   "outputs": [
    {
     "data": {
      "image/png": "[encoded data removed]",
      "text/plain": [
       "<Figure size 432x288 with 5 Axes>"
      ]
     },
     "metadata": {},
     "output_type": "display_data"
    }
   ],
   "source": [
    "# gridspec 示例提供类似数组（一维或二维）的索引，并返回 SubplotSpec实例\n",
    "# 创建多个子图\n",
    "gs = gridspec.GridSpec(3,3)\n",
    "ax1 = plt.subplot(gs[0, :])\n",
    "ax2 = plt.subplot(gs[1,:-1])\n",
    "ax3 = plt.subplot(gs[1:,-1])\n",
    "ax4 = plt.subplot(gs[-1, 0])\n",
    "ax5 = plt.subplot(gs[-1, 1])"
   ]
  },
  {
   "cell_type": "markdown",
   "metadata": {},
   "source": [
    "### 3. 调整GridSpec布局"
   ]
  },
  {
   "cell_type": "markdown",
   "metadata": {},
   "source": [
    "在显式使用GridSpec 的时候，你可以调整子图的布局参数，子图由gridspec 创建。"
   ]
  },
  {
   "cell_type": "code",
   "execution_count": 26,
   "metadata": {},
   "outputs": [],
   "source": [
    "# 调整单个grispec的布局\n",
    "# 类似于subplots_adjust ，但是他只影响从给定 GridSpec 创建的子图。\n",
    "gs1 = gridspec.GridSpec(3, 3) \n",
    "gs1.update(left=0.05, right=0.48, wspace=0.05)"
   ]
  },
  {
   "cell_type": "code",
   "execution_count": 27,
   "metadata": {},
   "outputs": [
    {
     "data": {
      "image/png": "[encoded data removed]",
      "text/plain": [
       "<Figure size 432x288 with 6 Axes>"
      ]
     },
     "metadata": {},
     "output_type": "display_data"
    }
   ],
   "source": [
    "# 调整多个gridspec布局\n",
    "gs1 = gridspec.GridSpec(3, 3)\n",
    "gs1.update(left=0.05, right=0.48, wspace=0.05)\n",
    "ax1 = plt.subplot(gs1[:-1, :])\n",
    "ax2 = plt.subplot(gs1[-1, :-1])\n",
    "ax3 = plt.subplot(gs1[-1, -1])\n",
    "gs2 = gridspec.GridSpec(3, 3)\n",
    "gs2.update(left=0.55, right=0.98, hspace=0.05)\n",
    "ax4 = plt.subplot(gs2[:, :-1])\n",
    "ax5 = plt.subplot(gs2[:-1, -1])\n",
    "ax6 = plt.subplot(gs2[-1, -1])"
   ]
  },
  {
   "cell_type": "markdown",
   "metadata": {},
   "source": [
    "### 4. 使用SubplotSpec创建GridSpec"
   ]
  },
  {
   "cell_type": "code",
   "execution_count": 28,
   "metadata": {},
   "outputs": [],
   "source": [
    "gs0 = gridspec.GridSpec(1, 2)\n",
    "gs00 = gridspec.GridSpecFromSubplotSpec(3, 3, subplot_spec=gs0[0])\n",
    "gs01 = gridspec.GridSpecFromSubplotSpec(3, 3, subplot_spec=gs0[1])"
   ]
  },
  {
   "cell_type": "markdown",
   "metadata": {},
   "source": [
    "### 5. 网格尺寸可变的GridSpec"
   ]
  },
  {
   "cell_type": "code",
   "execution_count": 29,
   "metadata": {},
   "outputs": [
    {
     "data": {
      "image/png": "[encoded data removed]",
      "text/plain": [
       "<Figure size 432x288 with 4 Axes>"
      ]
     },
     "metadata": {},
     "output_type": "display_data"
    }
   ],
   "source": [
    "gs = gridspec.GridSpec(2, 2, width_ratios=[1,2], height_ratios=[4,1])\n",
    "ax1 = plt.subplot(gs[0])\n",
    "ax2 = plt.subplot(gs[1])\n",
    "ax3 = plt.subplot(gs[2])\n",
    "ax4 = plt.subplot(gs[3])"
   ]
  },
  {
   "cell_type": "code",
   "execution_count": null,
   "metadata": {},
   "outputs": [],
   "source": []
  }
 ],
 "metadata": {
  "kernelspec": {
   "display_name": "Python 3",
   "language": "python",
   "name": "python3"
  },
  "language_info": {
   "codemirror_mode": {
    "name": "ipython",
    "version": 3
   },
   "file_extension": ".py",
   "mimetype": "text/x-python",
   "name": "python",
   "nbconvert_exporter": "python",
   "pygments_lexer": "ipython3",
   "version": "3.6.7"
  }
 },
 "nbformat": 4,
 "nbformat_minor": 2
}
