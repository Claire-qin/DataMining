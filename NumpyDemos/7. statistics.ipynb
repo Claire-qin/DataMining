{
 "cells": [
  {
   "cell_type": "markdown",
   "metadata": {},
   "source": [
    "介绍了numpy中的统计函数和常见分布"
   ]
  },
  {
   "cell_type": "code",
   "execution_count": 30,
   "metadata": {},
   "outputs": [],
   "source": [
    "import numpy as np\n",
    "import matplotlib.pyplot as plt"
   ]
  },
  {
   "cell_type": "markdown",
   "metadata": {},
   "source": [
    "### 统计值"
   ]
  },
  {
   "cell_type": "code",
   "execution_count": 3,
   "metadata": {},
   "outputs": [
    {
     "name": "stdout",
     "output_type": "stream",
     "text": [
      "最小值：0\n",
      "最大值：11\n"
     ]
    }
   ],
   "source": [
    "# np.max最大值，np.min嘴小值\n",
    "a = np.arange(12).reshape(3,4)\n",
    "print(\"最小值：{}\".format(np.min(a)))\n",
    "print(\"最大值：{}\".format(np.max(a)))"
   ]
  },
  {
   "cell_type": "code",
   "execution_count": 4,
   "metadata": {},
   "outputs": [
    {
     "name": "stdout",
     "output_type": "stream",
     "text": [
      "[[ 0  1  2  3]\n",
      " [ 4  5  6  7]\n",
      " [ 8  9 10 11]]\n",
      "沿axis=0的最小值：[0 1 2 3]\n",
      "沿axis=1的最大值：[ 3  7 11]\n"
     ]
    }
   ],
   "source": [
    "# np.amin, np.amax沿指定轴的最大/小值, 若不指定，则返回整个array的最大/小\n",
    "a = np.arange(12).reshape(3,4)\n",
    "print(a)\n",
    "print(\"沿axis=0的最小值：{}\".format(np.amin(a,0)))   # 沿着axis=0方向进行对比，即每列中的最大值\n",
    "print(\"沿axis=1的最大值：{}\".format(np.amax(a,1)))   # 沿着axis=1方向进行对比，即每行中的最大值"
   ]
  },
  {
   "cell_type": "code",
   "execution_count": 5,
   "metadata": {},
   "outputs": [
    {
     "name": "stdout",
     "output_type": "stream",
     "text": [
      "[[3 7 5]\n",
      " [8 4 3]\n",
      " [2 4 9]]\n",
      "[6 3 6]\n",
      "[4 5 7]\n",
      "7\n"
     ]
    }
   ],
   "source": [
    "# np.ptp 返回沿轴的值的范围（最大值-最小值）\n",
    "a = np.array([[3,7,5],[8,4,3],[2,4,9]])\n",
    "print(a)\n",
    "print(np.ptp(a, axis=0))   # 沿着axis=0方向进行对比，即每列中的最大值-最小值\n",
    "print(np.ptp(a, axis=1))   # 沿着axis=1方向进行对比，即每行中的最大值-最小值\n",
    "print(np.ptp(a))"
   ]
  },
  {
   "cell_type": "code",
   "execution_count": 7,
   "metadata": {},
   "outputs": [
    {
     "name": "stdout",
     "output_type": "stream",
     "text": [
      "[[30 40 70]\n",
      " [80 20 10]\n",
      " [50 90 60]]\n",
      "[50. 40. 60.]\n",
      "[40. 20. 60.]\n",
      "50.0\n"
     ]
    }
   ],
   "source": [
    "# numpy.percentile(a, q, axis)  取array中的百分位数, 参数q为百分位\n",
    "a = np.array([[30,40,70],[80,20,10],[50,90,60]])\n",
    "print(a)\n",
    "print(np.percentile(a, 50, axis=0))    \n",
    "print(np.percentile(a, 50, axis=1)) \n",
    "print(np.percentile(a, 50)) "
   ]
  },
  {
   "cell_type": "code",
   "execution_count": 8,
   "metadata": {},
   "outputs": [],
   "source": [
    "# 类似的函数还包括\n",
    "# np.meadian()    中位数\n",
    "# np.mean()   算数平均数\n",
    "# np.average()    提供了weight参数，可计算加权平均数\n",
    "# np.var()   方差\n",
    "# np.std()   标准差"
   ]
  },
  {
   "cell_type": "markdown",
   "metadata": {},
   "source": [
    "### 常见分布及其采样"
   ]
  },
  {
   "cell_type": "markdown",
   "metadata": {},
   "source": [
    "#### 二项分布"
   ]
  },
  {
   "cell_type": "markdown",
   "metadata": {},
   "source": [
    "设想你来到了一个17世纪的赌场，正在对一个硬币赌博游戏下8份赌注。每一轮抛9枚硬币， 如果少于5枚硬币正面朝上，你将损失8份赌注中的1份；否则，你将赢得1份赌注。我们来模拟 一下赌博的过程， 初始资本为1000份赌注。"
   ]
  },
  {
   "cell_type": "code",
   "execution_count": 26,
   "metadata": {},
   "outputs": [],
   "source": [
    "# 假设1w轮的游戏\n",
    "rounds = 10000   # 轮\n",
    "cash = np.full(rounds, 1000)\n",
    "coins = np.random.binomial(9, 0.5, rounds)"
   ]
  },
  {
   "cell_type": "code",
   "execution_count": 27,
   "metadata": {},
   "outputs": [
    {
     "data": {
      "text/plain": [
       "array([1000, 1000, 1000, 1000, 1000])"
      ]
     },
     "execution_count": 27,
     "metadata": {},
     "output_type": "execute_result"
    }
   ],
   "source": [
    "cash[:5]"
   ]
  },
  {
   "cell_type": "code",
   "execution_count": 22,
   "metadata": {},
   "outputs": [
    {
     "data": {
      "text/plain": [
       "array([6, 2, 3, 6, 3])"
      ]
     },
     "execution_count": 22,
     "metadata": {},
     "output_type": "execute_result"
    }
   ],
   "source": [
    "coins[:5]"
   ]
  },
  {
   "cell_type": "code",
   "execution_count": 24,
   "metadata": {},
   "outputs": [
    {
     "data": {
      "text/plain": [
       "array([ 1, -1, -1,  1, -1])"
      ]
     },
     "execution_count": 24,
     "metadata": {},
     "output_type": "execute_result"
    }
   ],
   "source": [
    "def judge(x):\n",
    "    if x < 5:\n",
    "        return -1\n",
    "    else:\n",
    "        return 1\n",
    "win_lost = np.vectorize(judge)\n",
    "results = win_lost(coins)\n",
    "results[:5]"
   ]
  },
  {
   "cell_type": "code",
   "execution_count": 31,
   "metadata": {},
   "outputs": [],
   "source": [
    "out = cash + np.cumsum(results)"
   ]
  },
  {
   "cell_type": "code",
   "execution_count": 32,
   "metadata": {},
   "outputs": [
    {
     "data": {
      "text/plain": [
       "[<matplotlib.lines.Line2D at 0x118f40588>]"
      ]
     },
     "execution_count": 32,
     "metadata": {},
     "output_type": "execute_result"
    },
    {
     "data": {
      "image/png": "[encoded data removed]",
      "text/plain": [
       "<Figure size 432x288 with 1 Axes>"
      ]
     },
     "metadata": {},
     "output_type": "display_data"
    }
   ],
   "source": [
    "plt.plot(out)"
   ]
  },
  {
   "cell_type": "markdown",
   "metadata": {},
   "source": [
    "#### 正态分布"
   ]
  },
  {
   "cell_type": "code",
   "execution_count": null,
   "metadata": {},
   "outputs": [],
   "source": []
  }
 ],
 "metadata": {
  "kernelspec": {
   "display_name": "Python 3",
   "language": "python",
   "name": "python3"
  },
  "language_info": {
   "codemirror_mode": {
    "name": "ipython",
    "version": 3
   },
   "file_extension": ".py",
   "mimetype": "text/x-python",
   "name": "python",
   "nbconvert_exporter": "python",
   "pygments_lexer": "ipython3",
   "version": "3.6.7"
  },
  "toc": {
   "base_numbering": 1,
   "nav_menu": {},
   "number_sections": true,
   "sideBar": true,
   "skip_h1_title": false,
   "title_cell": "Table of Contents",
   "title_sidebar": "Contents",
   "toc_cell": false,
   "toc_position": {},
   "toc_section_display": true,
   "toc_window_display": false
  }
 },
 "nbformat": 4,
 "nbformat_minor": 2
}
