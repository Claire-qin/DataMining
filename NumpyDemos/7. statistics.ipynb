{
 "cells": [
  {
   "cell_type": "markdown",
   "metadata": {},
   "source": [
    "介绍了numpy中的统计函数"
   ]
  },
  {
   "cell_type": "code",
   "execution_count": 1,
   "metadata": {},
   "outputs": [],
   "source": [
    "import numpy as np"
   ]
  },
  {
   "cell_type": "code",
   "execution_count": 3,
   "metadata": {},
   "outputs": [
    {
     "name": "stdout",
     "output_type": "stream",
     "text": [
      "最小值：0\n",
      "最大值：11\n"
     ]
    }
   ],
   "source": [
    "# np.max最大值，np.min嘴小值\n",
    "a = np.arange(12).reshape(3,4)\n",
    "print(\"最小值：{}\".format(np.min(a)))\n",
    "print(\"最大值：{}\".format(np.max(a)))"
   ]
  },
  {
   "cell_type": "code",
   "execution_count": 4,
   "metadata": {},
   "outputs": [
    {
     "name": "stdout",
     "output_type": "stream",
     "text": [
      "[[ 0  1  2  3]\n",
      " [ 4  5  6  7]\n",
      " [ 8  9 10 11]]\n",
      "沿axis=0的最小值：[0 1 2 3]\n",
      "沿axis=1的最大值：[ 3  7 11]\n"
     ]
    }
   ],
   "source": [
    "# np.amin, np.amax沿指定轴的最大/小值, 若不指定，则返回整个array的最大/小\n",
    "a = np.arange(12).reshape(3,4)\n",
    "print(a)\n",
    "print(\"沿axis=0的最小值：{}\".format(np.amin(a,0)))   # 沿着axis=0方向进行对比，即每列中的最大值\n",
    "print(\"沿axis=1的最大值：{}\".format(np.amax(a,1)))   # 沿着axis=1方向进行对比，即每行中的最大值"
   ]
  },
  {
   "cell_type": "code",
   "execution_count": 5,
   "metadata": {},
   "outputs": [
    {
     "name": "stdout",
     "output_type": "stream",
     "text": [
      "[[3 7 5]\n",
      " [8 4 3]\n",
      " [2 4 9]]\n",
      "[6 3 6]\n",
      "[4 5 7]\n",
      "7\n"
     ]
    }
   ],
   "source": [
    "# np.ptp 返回沿轴的值的范围（最大值-最小值）\n",
    "a = np.array([[3,7,5],[8,4,3],[2,4,9]])\n",
    "print(a)\n",
    "print(np.ptp(a, axis=0))   # 沿着axis=0方向进行对比，即每列中的最大值-最小值\n",
    "print(np.ptp(a, axis=1))   # 沿着axis=1方向进行对比，即每行中的最大值-最小值\n",
    "print(np.ptp(a))"
   ]
  },
  {
   "cell_type": "code",
   "execution_count": 7,
   "metadata": {},
   "outputs": [
    {
     "name": "stdout",
     "output_type": "stream",
     "text": [
      "[[30 40 70]\n",
      " [80 20 10]\n",
      " [50 90 60]]\n",
      "[50. 40. 60.]\n",
      "[40. 20. 60.]\n",
      "50.0\n"
     ]
    }
   ],
   "source": [
    "# numpy.percentile(a, q, axis)  取array中的百分位数, 参数q为百分位\n",
    "a = np.array([[30,40,70],[80,20,10],[50,90,60]])\n",
    "print(a)\n",
    "print(np.percentile(a, 50, axis=0))    \n",
    "print(np.percentile(a, 50, axis=1)) \n",
    "print(np.percentile(a, 50)) "
   ]
  },
  {
   "cell_type": "code",
   "execution_count": 8,
   "metadata": {},
   "outputs": [],
   "source": [
    "# 类似的函数还包括\n",
    "# np.meadian()    中位数\n",
    "# np.mean()   算数平均数\n",
    "# np.average()    提供了weight参数，可计算加权平均数\n",
    "# np.var()   方差\n",
    "# np.std()   标准差"
   ]
  },
  {
   "cell_type": "code",
   "execution_count": null,
   "metadata": {},
   "outputs": [],
   "source": []
  }
 ],
 "metadata": {
  "kernelspec": {
   "display_name": "Python 3",
   "language": "python",
   "name": "python3"
  },
  "language_info": {
   "codemirror_mode": {
    "name": "ipython",
    "version": 3
   },
   "file_extension": ".py",
   "mimetype": "text/x-python",
   "name": "python",
   "nbconvert_exporter": "python",
   "pygments_lexer": "ipython3",
   "version": "3.6.7"
  }
 },
 "nbformat": 4,
 "nbformat_minor": 2
}
