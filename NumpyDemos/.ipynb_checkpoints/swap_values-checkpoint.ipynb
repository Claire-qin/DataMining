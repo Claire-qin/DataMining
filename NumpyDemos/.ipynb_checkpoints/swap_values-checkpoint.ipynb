{
 "cells": [
  {
   "cell_type": "markdown",
   "metadata": {},
   "source": [
    "介绍了Numpy中用于交换部分数据的功能"
   ]
  },
  {
   "cell_type": "code",
   "execution_count": 3,
   "metadata": {},
   "outputs": [],
   "source": [
    "import numpy as np"
   ]
  },
  {
   "cell_type": "markdown",
   "metadata": {},
   "source": [
    "### 1. python中数据交换的方法"
   ]
  },
  {
   "cell_type": "code",
   "execution_count": 1,
   "metadata": {},
   "outputs": [
    {
     "name": "stdout",
     "output_type": "stream",
     "text": [
      "原始a值为1，b值为2\n",
      "交换后的a值为2, b值为1\n"
     ]
    }
   ],
   "source": [
    "# python中变量存储的是地址的引用\n",
    "# 无须采用类似于C语言中的创造一个临时变量temp的方式来进行交换\n",
    "a = 1\n",
    "b = 2\n",
    "print(\"原始a值为{}，b值为{}\".format(a, b))\n",
    "a, b = b, a\n",
    "print(\"交换后的a值为{}, b值为{}\".format(a, b))"
   ]
  },
  {
   "cell_type": "code",
   "execution_count": 2,
   "metadata": {},
   "outputs": [
    {
     "name": "stdout",
     "output_type": "stream",
     "text": [
      "原始A为:\n",
      " [[1, 2], [3, 4]]\n",
      "交换后的A为:\n",
      " [[3, 4], [1, 2]]\n"
     ]
    }
   ],
   "source": [
    "# 这种交换方式同样可用于列表\n",
    "A = [[1,2] ,[3,4]]\n",
    "print(\"原始A为:\\n\", A)\n",
    "A[0], A[1] = A[1], A[0]\n",
    "print(\"交换后的A为:\\n\", A)"
   ]
  },
  {
   "cell_type": "markdown",
   "metadata": {},
   "source": [
    "### 2. Numpy中的数据交换 "
   ]
  },
  {
   "cell_type": "markdown",
   "metadata": {},
   "source": [
    "#### 2.1 几个小测试"
   ]
  },
  {
   "cell_type": "code",
   "execution_count": 4,
   "metadata": {},
   "outputs": [
    {
     "name": "stdout",
     "output_type": "stream",
     "text": [
      "原始b为:\n",
      " [1 2 3 4]\n",
      "交换后的b为:\n",
      " [2 1 3 4]\n"
     ]
    }
   ],
   "source": [
    "# 交换一维数组中的两个值\n",
    "b = np.array([1,2,3,4])\n",
    "print(\"原始b为:\\n\", b)\n",
    "b[0], b[1] = b[1], b[0]\n",
    "print(\"交换后的b为:\\n\", b)"
   ]
  },
  {
   "cell_type": "code",
   "execution_count": 5,
   "metadata": {},
   "outputs": [
    {
     "name": "stdout",
     "output_type": "stream",
     "text": [
      "原始B为:\n",
      " [[1 2]\n",
      " [3 4]]\n",
      "交换后的B为:\n",
      " [[3 4]\n",
      " [3 4]]\n"
     ]
    }
   ],
   "source": [
    "# 交换二维数组中的两行\n",
    "B = np.array([[1,2], [3,4]])\n",
    "print(\"原始B为:\\n\", B)\n",
    "B[0,:], B[1,:] = B[1,:], B[0,:]\n",
    "print(\"交换后的B为:\\n\", B)"
   ]
  },
  {
   "cell_type": "markdown",
   "metadata": {},
   "source": [
    "可见，对于一维数组而言，可以简单暴力的沿用python中经典的交换值方法；而对于复杂的二维数组而言，其切片操作意味着视图和内存共享，在执行\n",
    "B[0,:], B[1,:] = B[1,:], B[0,:]中的第一个赋值操作B[0,:]=B[1,:]时，B中的数值以及原地进行了修改，所以无法交换成功"
   ]
  },
  {
   "cell_type": "code",
   "execution_count": 6,
   "metadata": {},
   "outputs": [
    {
     "name": "stdout",
     "output_type": "stream",
     "text": [
      "原始C为:\n",
      " [[1 2]\n",
      " [3 4]]\n",
      "交换后的C为:\n",
      " [[3 4]\n",
      " [3 4]]\n"
     ]
    }
   ],
   "source": [
    "# 尝试采用C语言中的临时变量temp来交换数据\n",
    "C = np.array([[1,2], [3,4]])\n",
    "print(\"原始C为:\\n\", C)\n",
    "temp = C[0, :]\n",
    "C[0, :] = C[1, :]\n",
    "C[1, :] = temp\n",
    "print(\"交换后的C为:\\n\", D)"
   ]
  },
  {
   "cell_type": "markdown",
   "metadata": {},
   "source": [
    "temp存储着指向C[0, :]的引用，在C[0, :] = C[1, :]运行时，C[0, :] 原地修改，所以temp指向的值也发生了变化。因此这种方法也无效"
   ]
  },
  {
   "cell_type": "markdown",
   "metadata": {},
   "source": [
    "#### 2.2 正确方案"
   ]
  },
  {
   "cell_type": "markdown",
   "metadata": {},
   "source": [
    "#### 需求一：交换二维数组的两行"
   ]
  },
  {
   "cell_type": "code",
   "execution_count": 7,
   "metadata": {},
   "outputs": [
    {
     "name": "stdout",
     "output_type": "stream",
     "text": [
      "原始D为:\n",
      " [[ 1  2  3]\n",
      " [ 4  5  6]\n",
      " [ 7  8  9]\n",
      " [10 11 12]]\n",
      "交换后的D为:\n",
      " [[ 1  2  3]\n",
      " [ 7  8  9]\n",
      " [ 4  5  6]\n",
      " [10 11 12]]\n"
     ]
    }
   ],
   "source": [
    "# 采用统一切片的方式来直接进行替换\n",
    "D = np.array([[1,2,3], [4,5,6], [7,8,9], [10,11,12]])\n",
    "print(\"原始D为:\\n\", D)\n",
    "D[[1,2], :] = D[[2,1], :]\n",
    "print(\"交换后的D为:\\n\", D)"
   ]
  },
  {
   "cell_type": "markdown",
   "metadata": {},
   "source": [
    "#### 需求二：交换一维数组中的两个值"
   ]
  },
  {
   "cell_type": "code",
   "execution_count": 9,
   "metadata": {},
   "outputs": [
    {
     "name": "stdout",
     "output_type": "stream",
     "text": [
      "原始的E为： [0 1 0 0 1 1]\n",
      "交换后E为： [1 0 1 1 0 0]\n"
     ]
    }
   ],
   "source": [
    "# 交换下列数组中的0和1值\n",
    "# 方法一：通过 val1 + val2 - arr 的方式\n",
    "E = np.array([0,1,0,0,1,1])\n",
    "print(\"原始的E为：\", E)\n",
    "E = 1 - E\n",
    "print(\"交换后E为：\", E)"
   ]
  },
  {
   "cell_type": "code",
   "execution_count": 10,
   "metadata": {},
   "outputs": [
    {
     "name": "stdout",
     "output_type": "stream",
     "text": [
      "原始的E为： [0 1 0 0 1 1]\n",
      "交换后E为： [1 0 1 1 0 0]\n"
     ]
    }
   ],
   "source": [
    "# 方法二：通过异或操作\n",
    "E = np.array([0,1,0,0,1,1])\n",
    "print(\"原始的E为：\", E)\n",
    "E ^= 1\n",
    "print(\"交换后E为：\", E)"
   ]
  },
  {
   "cell_type": "code",
   "execution_count": 11,
   "metadata": {},
   "outputs": [
    {
     "name": "stdout",
     "output_type": "stream",
     "text": [
      "原始的E为： [0 1 0 0 1 1]\n",
      "交换后E为： [1 0 1 1 0 0]\n"
     ]
    }
   ],
   "source": [
    "# 方法三：通过np.where函数\n",
    "E = np.array([0,1,0,0,1,1])\n",
    "print(\"原始的E为：\", E)\n",
    "E = np.where(E==1, 0, 1)\n",
    "print(\"交换后E为：\", E)"
   ]
  },
  {
   "cell_type": "code",
   "execution_count": 12,
   "metadata": {},
   "outputs": [
    {
     "name": "stdout",
     "output_type": "stream",
     "text": [
      "原始的E为： [0 1 0 0 1 1]\n",
      "交换后E为： [1 0 1 1 0 0]\n"
     ]
    }
   ],
   "source": [
    "# 方法四：通过构造mask-array\n",
    "E = np.array([0,1,0,0,1,1])\n",
    "print(\"原始的E为：\", E)\n",
    "mask = (E==1)\n",
    "E[mask] = 0\n",
    "E[~mask] = 1\n",
    "print(\"交换后E为：\", E)"
   ]
  },
  {
   "cell_type": "markdown",
   "metadata": {},
   "source": [
    "#### 需求三：交换一位数组的任何两个指定值"
   ]
  },
  {
   "cell_type": "code",
   "execution_count": 13,
   "metadata": {},
   "outputs": [],
   "source": [
    "def swap(array, i, j):\n",
    "    mask_i = (array==i)\n",
    "    mask_j = (array==j)\n",
    "    array[mask_i] = j\n",
    "    array[mask_j] = i\n",
    "    return array"
   ]
  },
  {
   "cell_type": "code",
   "execution_count": 14,
   "metadata": {},
   "outputs": [
    {
     "name": "stdout",
     "output_type": "stream",
     "text": [
      "原始的F为： [0 1 2 1 1 2 0]\n",
      "交换后F为： [1 0 2 0 0 2 1]\n"
     ]
    }
   ],
   "source": [
    "F= np.array([0, 1, 2, 1, 1, 2, 0])\n",
    "print(\"原始的F为：\", F)\n",
    "F = swap(F, 0, 1)\n",
    "print(\"交换后F为：\", F)"
   ]
  },
  {
   "cell_type": "code",
   "execution_count": null,
   "metadata": {},
   "outputs": [],
   "source": []
  }
 ],
 "metadata": {
  "kernelspec": {
   "display_name": "Python 3",
   "language": "python",
   "name": "python3"
  },
  "language_info": {
   "codemirror_mode": {
    "name": "ipython",
    "version": 3
   },
   "file_extension": ".py",
   "mimetype": "text/x-python",
   "name": "python",
   "nbconvert_exporter": "python",
   "pygments_lexer": "ipython3",
   "version": "3.6.7"
  }
 },
 "nbformat": 4,
 "nbformat_minor": 2
}
