{
 "cells": [
  {
   "cell_type": "markdown",
   "metadata": {},
   "source": [
    "掩膜数组（masked array）是Numpy中一类特殊的array，其可以屏蔽Numpy中的无效数据（从而不参与相关计算），同时保留了传统ndarray中的大部分函数接口"
   ]
  },
  {
   "cell_type": "code",
   "execution_count": 4,
   "metadata": {},
   "outputs": [],
   "source": [
    "import numpy as np"
   ]
  },
  {
   "cell_type": "code",
   "execution_count": 5,
   "metadata": {},
   "outputs": [
    {
     "data": {
      "text/plain": [
       "masked_array(data=[1, 2, 3],\n",
       "             mask=False,\n",
       "       fill_value=999999)"
      ]
     },
     "execution_count": 5,
     "metadata": {},
     "output_type": "execute_result"
    }
   ],
   "source": [
    "# masked_array有三个基本属性\n",
    "\"\"\"\n",
    "data和ndarray一样，表示数组数值\n",
    "mask屏蔽参数，True表示哪些数据需要掩膜\n",
    "fill_value表示在需要时用什么数填充掩膜元素\n",
    "\"\"\"\n",
    "arr = np.ma.array([1,2,3])\n",
    "arr"
   ]
  },
  {
   "cell_type": "code",
   "execution_count": 7,
   "metadata": {},
   "outputs": [
    {
     "name": "stdout",
     "output_type": "stream",
     "text": [
      " \n"
     ]
    }
   ],
   "source": [
    "\"\"\"\n",
    "ma.array其实是MaskedArray的shortcut，\n",
    "MaskedArray(data, mask=nomask, dtype=None, copy=False, subok=True,\n",
    "                      ndmin=0, fill_value=None, keep_mask=True, hard_mask=None,\n",
    "                      shrink=True, order=None)\n",
    "subok：是否作为MaskedArray的子类返回\n",
    "hard_mask： 若True，无法将mask含元素进行usetmask操作\n",
    "shrink：是否能对mask元素进行缩减   \n",
    "\n",
    "\n",
    "MaskedArray集成了ndarray，所以可以访问ndarray的所有函数, 其索引或者切片的视图性等特性也被继承\n",
    "\"\"\"\n",
    "print(\" \")"
   ]
  },
  {
   "cell_type": "code",
   "execution_count": 9,
   "metadata": {},
   "outputs": [
    {
     "data": {
      "text/plain": [
       "masked_array(data=[1, 2, 3, --, 5],\n",
       "             mask=[False, False, False,  True, False],\n",
       "       fill_value=999999)"
      ]
     },
     "execution_count": 9,
     "metadata": {},
     "output_type": "execute_result"
    }
   ],
   "source": [
    "# 逐元素设定mask,可以用bool值，或者用0-1值\n",
    "arr = np.ma.array([1,2,3,4,5], mask=[0,0,0,1,0])\n",
    "arr"
   ]
  },
  {
   "cell_type": "code",
   "execution_count": 10,
   "metadata": {},
   "outputs": [
    {
     "data": {
      "text/plain": [
       "2.75"
      ]
     },
     "execution_count": 10,
     "metadata": {},
     "output_type": "execute_result"
    }
   ],
   "source": [
    "# 此时的相关操作均为MaskedArray的，即不考虑掩膜元素的\n",
    "arr.mean()  # (1+2+3+5)/4=2.75"
   ]
  },
  {
   "cell_type": "code",
   "execution_count": 11,
   "metadata": {},
   "outputs": [
    {
     "name": "stdout",
     "output_type": "stream",
     "text": [
      "[[1 2]\n",
      " [-- 4]]\n",
      "[--]\n",
      "[1 2 4]\n"
     ]
    }
   ],
   "source": [
    "# 通过掩膜操作，可以快速访问相关数据(类似于布尔索引)\n",
    "arr = np.ma.array([[1,2], [3,4]], mask=[[0, 0], [1, 0]])\n",
    "print(arr)\n",
    "print(arr[arr.mask])\n",
    "print(arr[~arr.mask])"
   ]
  },
  {
   "cell_type": "code",
   "execution_count": 14,
   "metadata": {},
   "outputs": [
    {
     "data": {
      "text/plain": [
       "array([1, 2, 4])"
      ]
     },
     "execution_count": 14,
     "metadata": {},
     "output_type": "execute_result"
    }
   ],
   "source": [
    "# 对掩膜数组进行shrink操作\n",
    "arr.compressed()"
   ]
  },
  {
   "cell_type": "code",
   "execution_count": 16,
   "metadata": {},
   "outputs": [
    {
     "data": {
      "text/plain": [
       "masked_array(\n",
       "  data=[[1, 2],\n",
       "        [3, 4]],\n",
       "  mask=[[False, False],\n",
       "        [False, False]],\n",
       "  fill_value=999999)"
      ]
     },
     "execution_count": 16,
     "metadata": {},
     "output_type": "execute_result"
    }
   ],
   "source": [
    "# 通过修改mask属性，修改元素的mask\n",
    "arr = np.ma.array([[1,2], [3,4]], mask=[[0, 0], [1, 0]])\n",
    "arr.mask = False\n",
    "arr"
   ]
  },
  {
   "cell_type": "code",
   "execution_count": 17,
   "metadata": {},
   "outputs": [
    {
     "data": {
      "text/plain": [
       "masked_array(\n",
       "  data=[[1, 2],\n",
       "        [3, 4]],\n",
       "  mask=[[False, False],\n",
       "        [False, False]],\n",
       "  fill_value=999999)"
      ]
     },
     "execution_count": 17,
     "metadata": {},
     "output_type": "execute_result"
    }
   ],
   "source": [
    "# 或者直接赋值为np.ma.nomask\n",
    "arr = np.ma.array([[1,2], [3,4]], mask=[[0, 0], [1, 0]])\n",
    "arr.mask = np.ma.nomask\n",
    "arr"
   ]
  },
  {
   "cell_type": "code",
   "execution_count": null,
   "metadata": {},
   "outputs": [],
   "source": []
  }
 ],
 "metadata": {
  "kernelspec": {
   "display_name": "Python 3",
   "language": "python",
   "name": "python3"
  },
  "language_info": {
   "codemirror_mode": {
    "name": "ipython",
    "version": 3
   },
   "file_extension": ".py",
   "mimetype": "text/x-python",
   "name": "python",
   "nbconvert_exporter": "python",
   "pygments_lexer": "ipython3",
   "version": "3.6.7"
  },
  "toc": {
   "base_numbering": 1,
   "nav_menu": {},
   "number_sections": true,
   "sideBar": true,
   "skip_h1_title": false,
   "title_cell": "Table of Contents",
   "title_sidebar": "Contents",
   "toc_cell": false,
   "toc_position": {},
   "toc_section_display": true,
   "toc_window_display": false
  }
 },
 "nbformat": 4,
 "nbformat_minor": 2
}
