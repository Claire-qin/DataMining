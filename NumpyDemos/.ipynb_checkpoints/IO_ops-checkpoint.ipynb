{
 "cells": [
  {
   "cell_type": "markdown",
   "metadata": {},
   "source": [
    "主要介绍Numpy的genfromtxt函数"
   ]
  },
  {
   "cell_type": "code",
   "execution_count": 54,
   "metadata": {},
   "outputs": [],
   "source": [
    "import numpy as np\n",
    "from io import StringIO, BytesIO"
   ]
  },
  {
   "cell_type": "code",
   "execution_count": 2,
   "metadata": {},
   "outputs": [
    {
     "name": "stdout",
     "output_type": "stream",
     "text": [
      " \n"
     ]
    }
   ],
   "source": [
    "\"\"\"\n",
    "genfromtxt(fname, dtype=float, comments='#', delimiter=None,\n",
    "               skip_header=0, skip_footer=0, converters=None,\n",
    "               missing_values=None, filling_values=None, usecols=None,\n",
    "               names=None, excludelist=None, deletechars=None,\n",
    "               replace_space='_', autostrip=False, case_sensitive=True,\n",
    "               defaultfmt=\"f%i\", unpack=None, usemask=False, loose=True,\n",
    "               invalid_raise=True, max_rows=None, encoding='bytes')\n",
    "               \n",
    "dtype: 数据类型，可逐列指定，默认为float\n",
    "comments: 指定comments符号，从而不导入。默认为#\n",
    "delimiter: 分隔符， 如csv中的, 或;. 默认为空白区域（包括制表符）\n",
    "skip_header: 跳过前序行\n",
    "skip_footer: 跳过后续行\n",
    "converters: 指定列的转换器\n",
    "missing_values: 指定列的缺失值\n",
    "filling_values: 指定列的缺失填充值\n",
    "usecols: 指定载入列\n",
    "names: 指定列名，从而形成异构的ndarrary,  若为True，选择skip_header后的第一行作为names。该参数优先级高于comments参数\n",
    "autostrip: 自动清楚数值间的空格\n",
    "unpack：拆解\n",
    "usemask： 是否返回掩膜数组\n",
    "max_rows：最大行数，注意不要与skip_footer重复\n",
    "\"\"\"\n",
    "print(\" \")"
   ]
  },
  {
   "cell_type": "markdown",
   "metadata": {},
   "source": [
    "### delimiter参数"
   ]
  },
  {
   "cell_type": "code",
   "execution_count": 15,
   "metadata": {},
   "outputs": [
    {
     "data": {
      "text/plain": [
       "array([[1., 2., 3.],\n",
       "       [4., 5., 6.]])"
      ]
     },
     "execution_count": 15,
     "metadata": {},
     "output_type": "execute_result"
    }
   ],
   "source": [
    "data = \"1, 2, 3\\n4, 5, 6\"\n",
    "np.genfromtxt(StringIO(data), delimiter=\",\")"
   ]
  },
  {
   "cell_type": "code",
   "execution_count": 17,
   "metadata": {},
   "outputs": [
    {
     "data": {
      "text/plain": [
       "array([[  1.,   2.,   3.],\n",
       "       [  4.,   5.,  67.],\n",
       "       [890., 123.,   4.]])"
      ]
     },
     "execution_count": 17,
     "metadata": {},
     "output_type": "execute_result"
    }
   ],
   "source": [
    "# delimiter还可以指定宽度，用于解决固定宽度文件的读入问题\n",
    "data = \"  1  2  3\\n  4  5 67\\n890123  4\"\n",
    "np.genfromtxt(StringIO(data), delimiter=3)"
   ]
  },
  {
   "cell_type": "code",
   "execution_count": 20,
   "metadata": {},
   "outputs": [
    {
     "data": {
      "text/plain": [
       "array([[1234.,  567.,   89.],\n",
       "       [   4.,    7.,    9.],\n",
       "       [   4.,  567.,    9.]])"
      ]
     },
     "execution_count": 20,
     "metadata": {},
     "output_type": "execute_result"
    }
   ],
   "source": [
    "# delimiter还可以指定各列大小不同的问题\n",
    "data = \"123456789\\n   4  7 9\\n   4567 9\"\n",
    "np.genfromtxt(StringIO(data), delimiter=(4, 3,2), autostrip=True)"
   ]
  },
  {
   "cell_type": "markdown",
   "metadata": {},
   "source": [
    "### autostrip参数"
   ]
  },
  {
   "cell_type": "markdown",
   "metadata": {},
   "source": [
    "默认情况下，当一行被分解为一系列字符串时，单个条目不会被剥离前导空白或尾随空白。"
   ]
  },
  {
   "cell_type": "code",
   "execution_count": 28,
   "metadata": {},
   "outputs": [
    {
     "data": {
      "text/plain": [
       "array([[b'1', b' abc ', b' 2'],\n",
       "       [b'3', b' xxx', b' 4']], dtype='|S5')"
      ]
     },
     "execution_count": 28,
     "metadata": {},
     "output_type": "execute_result"
    }
   ],
   "source": [
    "# 可见字符串前后的空白被保留\n",
    "data = \"1, abc , 2\\n 3, xxx, 4\"\n",
    "np.genfromtxt(StringIO(data), delimiter=\",\", dtype='1S5')"
   ]
  },
  {
   "cell_type": "code",
   "execution_count": 29,
   "metadata": {},
   "outputs": [
    {
     "data": {
      "text/plain": [
       "array([[b'1', b'abc', b'2'],\n",
       "       [b'3', b'xxx', b'4']], dtype='|S5')"
      ]
     },
     "execution_count": 29,
     "metadata": {},
     "output_type": "execute_result"
    }
   ],
   "source": [
    "np.genfromtxt(StringIO(data), delimiter=\",\", autostrip=True, dtype='1S5')"
   ]
  },
  {
   "cell_type": "markdown",
   "metadata": {},
   "source": [
    "### comment参数"
   ]
  },
  {
   "cell_type": "markdown",
   "metadata": {},
   "source": [
    "用于定义标记注释开始的字符串"
   ]
  },
  {
   "cell_type": "code",
   "execution_count": 35,
   "metadata": {},
   "outputs": [
    {
     "data": {
      "text/plain": [
       "array([[1., 2.],\n",
       "       [3., 4.],\n",
       "       [5., 6.],\n",
       "       [7., 8.],\n",
       "       [9., 0.]])"
      ]
     },
     "execution_count": 35,
     "metadata": {},
     "output_type": "execute_result"
    }
   ],
   "source": [
    "data = \"\"\"#\n",
    "# Skip me !\n",
    "# Skip me too !\n",
    "1, 2\n",
    "3, 4\n",
    "5, 6 #This is the third line of the data\n",
    "7, 8\n",
    "# And here comes the last line\n",
    " 9, 0\n",
    "\"\"\"\n",
    "\n",
    "np.genfromtxt(StringIO(data), delimiter=',', comments='#')"
   ]
  },
  {
   "cell_type": "markdown",
   "metadata": {},
   "source": [
    "### skip_header和skip_footer参数"
   ]
  },
  {
   "cell_type": "markdown",
   "metadata": {},
   "source": [
    "默认均为0，即不跳过"
   ]
  },
  {
   "cell_type": "code",
   "execution_count": 39,
   "metadata": {},
   "outputs": [
    {
     "data": {
      "text/plain": [
       "'0\\n1\\n2\\n3\\n4\\n5\\n6\\n7\\n8\\n9'"
      ]
     },
     "execution_count": 39,
     "metadata": {},
     "output_type": "execute_result"
    }
   ],
   "source": [
    "data = '\\n'.join(str(i) for i in range(10))\n",
    "data"
   ]
  },
  {
   "cell_type": "code",
   "execution_count": 40,
   "metadata": {},
   "outputs": [
    {
     "data": {
      "text/plain": [
       "array([0., 1., 2., 3., 4., 5., 6., 7., 8., 9.])"
      ]
     },
     "execution_count": 40,
     "metadata": {},
     "output_type": "execute_result"
    }
   ],
   "source": [
    "np.genfromtxt(StringIO(data))"
   ]
  },
  {
   "cell_type": "code",
   "execution_count": 41,
   "metadata": {},
   "outputs": [
    {
     "data": {
      "text/plain": [
       "array([3., 4., 5., 6., 7.])"
      ]
     },
     "execution_count": 41,
     "metadata": {},
     "output_type": "execute_result"
    }
   ],
   "source": [
    "np.genfromtxt(StringIO(data),skip_header=3, skip_footer=2)"
   ]
  },
  {
   "cell_type": "markdown",
   "metadata": {},
   "source": [
    "### usecols参数和unpack参数"
   ]
  },
  {
   "cell_type": "markdown",
   "metadata": {},
   "source": [
    "选择敢兴趣的列，并选择是否拆分"
   ]
  },
  {
   "cell_type": "code",
   "execution_count": 42,
   "metadata": {},
   "outputs": [
    {
     "data": {
      "text/plain": [
       "array([[1., 3.],\n",
       "       [4., 6.]])"
      ]
     },
     "execution_count": 42,
     "metadata": {},
     "output_type": "execute_result"
    }
   ],
   "source": [
    "data = \"1 2 3\\n4 5 6\"\n",
    "np.genfromtxt(StringIO(data), usecols=(0, -1))"
   ]
  },
  {
   "cell_type": "code",
   "execution_count": 43,
   "metadata": {},
   "outputs": [
    {
     "data": {
      "text/plain": [
       "array([1., 4.])"
      ]
     },
     "execution_count": 43,
     "metadata": {},
     "output_type": "execute_result"
    }
   ],
   "source": [
    "a, b = np.genfromtxt(StringIO(data), usecols=(0, -1), unpack=True)\n",
    "a "
   ]
  },
  {
   "cell_type": "code",
   "execution_count": 45,
   "metadata": {},
   "outputs": [
    {
     "data": {
      "text/plain": [
       "array([(1., 3.), (4., 6.)], dtype=[('a', '<f8'), ('c', '<f8')])"
      ]
     },
     "execution_count": 45,
     "metadata": {},
     "output_type": "execute_result"
    }
   ],
   "source": [
    "# 如果列有名字，也可以在usecols中指定名字\n",
    "data = \"1 2 3\\n4 5 6\"\n",
    "np.genfromtxt(StringIO(data), names=\"a, b, c\", usecols=(\"a\", \"c\"))"
   ]
  },
  {
   "cell_type": "markdown",
   "metadata": {},
   "source": [
    "### names参数"
   ]
  },
  {
   "cell_type": "code",
   "execution_count": 46,
   "metadata": {},
   "outputs": [
    {
     "data": {
      "text/plain": [
       "array([(1, 2, 3), (4, 5, 6)],\n",
       "      dtype=[('a', '<i8'), ('b', '<i8'), ('c', '<i8')])"
      ]
     },
     "execution_count": 46,
     "metadata": {},
     "output_type": "execute_result"
    }
   ],
   "source": [
    "# 可以通过直接生命结构化的dtype来指定name\n",
    "data = \"1 2 3\\n 4 5 6\"\n",
    "np.genfromtxt(StringIO(data), dtype=[(_, int) for _ in 'abc'])"
   ]
  },
  {
   "cell_type": "code",
   "execution_count": 47,
   "metadata": {},
   "outputs": [
    {
     "data": {
      "text/plain": [
       "array([(1., 2., 3.), (4., 5., 6.)],\n",
       "      dtype=[('A', '<f8'), ('B', '<f8'), ('C', '<f8')])"
      ]
     },
     "execution_count": 47,
     "metadata": {},
     "output_type": "execute_result"
    }
   ],
   "source": [
    "# 可以通过显示的指定names\n",
    "data = StringIO(\"1 2 3\\n 4 5 6\")\n",
    "np.genfromtxt(data, names=\"A, B, C\")   # 也可以传递列表"
   ]
  },
  {
   "cell_type": "code",
   "execution_count": 51,
   "metadata": {},
   "outputs": [
    {
     "data": {
      "text/plain": [
       "array([(1., 2., 3.), (4., 5., 6.)],\n",
       "      dtype=[('a', '<f8'), ('b', '<f8'), ('c', '<f8')])"
      ]
     },
     "execution_count": 51,
     "metadata": {},
     "output_type": "execute_result"
    }
   ],
   "source": [
    "# 或者通过names=True直接从原文件中获取列名\n",
    "data = StringIO(\"So it goes\\na b c\\n1 2 3\\n 4 5 6\")\n",
    "np.genfromtxt(data,skip_header=1, names=True)   "
   ]
  },
  {
   "cell_type": "markdown",
   "metadata": {},
   "source": [
    "### converters参数"
   ]
  },
  {
   "cell_type": "markdown",
   "metadata": {},
   "source": [
    "加载数据时直接对指定列进行转化，该参数值通常为以列索引或列名称为key的字典"
   ]
  },
  {
   "cell_type": "code",
   "execution_count": 52,
   "metadata": {},
   "outputs": [
    {
     "data": {
      "text/plain": [
       "array([(1., nan, 45.), (6., nan,  0.)],\n",
       "      dtype=[('i', '<f8'), ('p', '<f8'), ('n', '<f8')])"
      ]
     },
     "execution_count": 52,
     "metadata": {},
     "output_type": "execute_result"
    }
   ],
   "source": [
    "data = \"1, 2.3%, 45.\\n6, 78.9%, 0\"\n",
    "names = (\"i\", \"p\", \"n\")\n",
    "np.genfromtxt(StringIO(data), delimiter=\",\", names=names)"
   ]
  },
  {
   "cell_type": "code",
   "execution_count": 76,
   "metadata": {},
   "outputs": [
    {
     "data": {
      "text/plain": [
       "array([(1, b'', -1), (6, b'',  0)],\n",
       "      dtype=[('i', '<i8'), ('p', 'S'), ('n', '<i8')])"
      ]
     },
     "execution_count": 76,
     "metadata": {},
     "output_type": "execute_result"
    }
   ],
   "source": [
    "data = \"1, 2.3%, 45.\\n6, 78.9%, 0\"\n",
    "convertfunc = lambda x: float(x.decode('utf-8').strip(\"%\"))/100    # 注意要decode\n",
    "np.genfromtxt(StringIO(data), dtype=(np.int, np.string_, np.int), delimiter=\",\", names=names, converters={\"p\":convertfunc})"
   ]
  },
  {
   "cell_type": "markdown",
   "metadata": {},
   "source": [
    "### missing_values和 filling_values=None"
   ]
  },
  {
   "cell_type": "markdown",
   "metadata": {},
   "source": [
    "可以传递 有,的字符串， 数组或字典（字典为列索引或列名）"
   ]
  },
  {
   "cell_type": "code",
   "execution_count": 77,
   "metadata": {},
   "outputs": [
    {
     "data": {
      "text/plain": [
       "array([(0, 2,    3), (4, 0, -999)],\n",
       "      dtype=[('a', '<i8'), ('b', '<i8'), ('c', '<i8')])"
      ]
     },
     "execution_count": 77,
     "metadata": {},
     "output_type": "execute_result"
    }
   ],
   "source": [
    "data = \"N/A, 2, 3\\n4, ,???\"\n",
    "kwargs = dict(delimiter=\",\",\n",
    "              dtype=int,\n",
    "              names=\"a,b,c\",\n",
    "              missing_values={0:\"N/A\", 'b':\" \", 2:\"???\"},\n",
    "              filling_values={0:0, 'b':0, 2:-999})\n",
    "np.genfromtxt(StringIO(data), **kwargs)"
   ]
  },
  {
   "cell_type": "markdown",
   "metadata": {},
   "source": [
    "### usemask参数"
   ]
  },
  {
   "cell_type": "markdown",
   "metadata": {},
   "source": [
    "通过构造一个布尔掩码来跟踪丢失数据的发生"
   ]
  },
  {
   "cell_type": "code",
   "execution_count": 79,
   "metadata": {},
   "outputs": [
    {
     "data": {
      "text/plain": [
       "masked_array(data=[(--, 2, 3), (4, --, --)],\n",
       "             mask=[( True, False, False), (False,  True,  True)],\n",
       "       fill_value=(999999, 999999, 999999),\n",
       "            dtype=[('a', '<i8'), ('b', '<i8'), ('c', '<i8')])"
      ]
     },
     "execution_count": 79,
     "metadata": {},
     "output_type": "execute_result"
    }
   ],
   "source": [
    "data = \"N/A, 2, 3\\n4, ,???\"\n",
    "kwargs = dict(delimiter=\",\",\n",
    "              dtype=int,\n",
    "              names=\"a,b,c\",\n",
    "              missing_values={0:\"N/A\", 'b':\" \", 2:\"???\"},\n",
    "              usemask=True)\n",
    "np.genfromtxt(StringIO(data), **kwargs)"
   ]
  },
  {
   "cell_type": "code",
   "execution_count": null,
   "metadata": {},
   "outputs": [],
   "source": []
  }
 ],
 "metadata": {
  "kernelspec": {
   "display_name": "Python 3",
   "language": "python",
   "name": "python3"
  },
  "language_info": {
   "codemirror_mode": {
    "name": "ipython",
    "version": 3
   },
   "file_extension": ".py",
   "mimetype": "text/x-python",
   "name": "python",
   "nbconvert_exporter": "python",
   "pygments_lexer": "ipython3",
   "version": "3.6.7"
  },
  "toc": {
   "base_numbering": 1,
   "nav_menu": {},
   "number_sections": true,
   "sideBar": true,
   "skip_h1_title": false,
   "title_cell": "Table of Contents",
   "title_sidebar": "Contents",
   "toc_cell": false,
   "toc_position": {},
   "toc_section_display": true,
   "toc_window_display": false
  }
 },
 "nbformat": 4,
 "nbformat_minor": 2
}
