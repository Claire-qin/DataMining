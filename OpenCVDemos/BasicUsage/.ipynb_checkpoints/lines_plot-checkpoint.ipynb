{
 "cells": [
  {
   "cell_type": "markdown",
   "metadata": {},
   "source": [
    "使用opencv绘制简单的图形"
   ]
  },
  {
   "cell_type": "code",
   "execution_count": 2,
   "metadata": {},
   "outputs": [],
   "source": [
    "import cv2\n",
    "import matplotlib.pyplot as plt\n",
    "import numpy as np\n",
    "%matplotlib inline"
   ]
  },
  {
   "cell_type": "code",
   "execution_count": 6,
   "metadata": {},
   "outputs": [],
   "source": [
    "# 绘制底图\n",
    "back_img = np.zeros((512, 512, 3), dtype=np.int8)   "
   ]
  },
  {
   "cell_type": "code",
   "execution_count": 7,
   "metadata": {},
   "outputs": [
    {
     "data": {
      "text/plain": [
       "array([[[127,   0,   0],\n",
       "        [127,   0,   0],\n",
       "        [127,   0,   0],\n",
       "        ...,\n",
       "        [  0,   0,   0],\n",
       "        [  0,   0,   0],\n",
       "        [  0,   0,   0]],\n",
       "\n",
       "       [[127,   0,   0],\n",
       "        [127,   0,   0],\n",
       "        [127,   0,   0],\n",
       "        ...,\n",
       "        [  0,   0,   0],\n",
       "        [  0,   0,   0],\n",
       "        [  0,   0,   0]],\n",
       "\n",
       "       [[127,   0,   0],\n",
       "        [127,   0,   0],\n",
       "        [127,   0,   0],\n",
       "        ...,\n",
       "        [  0,   0,   0],\n",
       "        [  0,   0,   0],\n",
       "        [  0,   0,   0]],\n",
       "\n",
       "       ...,\n",
       "\n",
       "       [[  0,   0,   0],\n",
       "        [  0,   0,   0],\n",
       "        [  0,   0,   0],\n",
       "        ...,\n",
       "        [127,   0,   0],\n",
       "        [127,   0,   0],\n",
       "        [127,   0,   0]],\n",
       "\n",
       "       [[  0,   0,   0],\n",
       "        [  0,   0,   0],\n",
       "        [  0,   0,   0],\n",
       "        ...,\n",
       "        [127,   0,   0],\n",
       "        [127,   0,   0],\n",
       "        [127,   0,   0]],\n",
       "\n",
       "       [[  0,   0,   0],\n",
       "        [  0,   0,   0],\n",
       "        [  0,   0,   0],\n",
       "        ...,\n",
       "        [127,   0,   0],\n",
       "        [127,   0,   0],\n",
       "        [127,   0,   0]]], dtype=int8)"
      ]
     },
     "execution_count": 7,
     "metadata": {},
     "output_type": "execute_result"
    }
   ],
   "source": [
    "# 绘制直线，参数为两点坐标、直线颜色、线宽等\n",
    "cv2.line(back_img, (0, 0), (511, 511), (255,0,0),5)"
   ]
  },
  {
   "cell_type": "code",
   "execution_count": 9,
   "metadata": {},
   "outputs": [
    {
     "data": {
      "text/plain": [
       "array([[[127,   0,   0],\n",
       "        [127,   0,   0],\n",
       "        [127,   0,   0],\n",
       "        ...,\n",
       "        [  0, 127,   0],\n",
       "        [  0, 127,   0],\n",
       "        [  0, 127,   0]],\n",
       "\n",
       "       [[127,   0,   0],\n",
       "        [127,   0,   0],\n",
       "        [127,   0,   0],\n",
       "        ...,\n",
       "        [  0, 127,   0],\n",
       "        [  0, 127,   0],\n",
       "        [  0, 127,   0]],\n",
       "\n",
       "       [[127,   0,   0],\n",
       "        [127,   0,   0],\n",
       "        [127,   0,   0],\n",
       "        ...,\n",
       "        [  0, 127,   0],\n",
       "        [  0, 127,   0],\n",
       "        [  0, 127,   0]],\n",
       "\n",
       "       ...,\n",
       "\n",
       "       [[  0,   0,   0],\n",
       "        [  0,   0,   0],\n",
       "        [  0,   0,   0],\n",
       "        ...,\n",
       "        [127,   0,   0],\n",
       "        [127,   0,   0],\n",
       "        [127,   0,   0]],\n",
       "\n",
       "       [[  0,   0,   0],\n",
       "        [  0,   0,   0],\n",
       "        [  0,   0,   0],\n",
       "        ...,\n",
       "        [127,   0,   0],\n",
       "        [127,   0,   0],\n",
       "        [127,   0,   0]],\n",
       "\n",
       "       [[  0,   0,   0],\n",
       "        [  0,   0,   0],\n",
       "        [  0,   0,   0],\n",
       "        ...,\n",
       "        [127,   0,   0],\n",
       "        [127,   0,   0],\n",
       "        [127,   0,   0]]], dtype=int8)"
      ]
     },
     "execution_count": 9,
     "metadata": {},
     "output_type": "execute_result"
    }
   ],
   "source": [
    "# 绘制矩形，参数依次为左上顶点和右下顶点坐标，颜色，线宽等\n",
    "cv2.rectangle(back_img, (384, 0), (510, 128), (0, 255, 0), 3)"
   ]
  },
  {
   "cell_type": "code",
   "execution_count": 11,
   "metadata": {},
   "outputs": [
    {
     "data": {
      "text/plain": [
       "array([[[127,   0,   0],\n",
       "        [127,   0,   0],\n",
       "        [127,   0,   0],\n",
       "        ...,\n",
       "        [  0, 127,   0],\n",
       "        [  0, 127,   0],\n",
       "        [  0, 127,   0]],\n",
       "\n",
       "       [[127,   0,   0],\n",
       "        [127,   0,   0],\n",
       "        [127,   0,   0],\n",
       "        ...,\n",
       "        [  0, 127,   0],\n",
       "        [  0, 127,   0],\n",
       "        [  0, 127,   0]],\n",
       "\n",
       "       [[127,   0,   0],\n",
       "        [127,   0,   0],\n",
       "        [127,   0,   0],\n",
       "        ...,\n",
       "        [  0, 127,   0],\n",
       "        [  0, 127,   0],\n",
       "        [  0, 127,   0]],\n",
       "\n",
       "       ...,\n",
       "\n",
       "       [[  0,   0,   0],\n",
       "        [  0,   0,   0],\n",
       "        [  0,   0,   0],\n",
       "        ...,\n",
       "        [127,   0,   0],\n",
       "        [127,   0,   0],\n",
       "        [127,   0,   0]],\n",
       "\n",
       "       [[  0,   0,   0],\n",
       "        [  0,   0,   0],\n",
       "        [  0,   0,   0],\n",
       "        ...,\n",
       "        [127,   0,   0],\n",
       "        [127,   0,   0],\n",
       "        [127,   0,   0]],\n",
       "\n",
       "       [[  0,   0,   0],\n",
       "        [  0,   0,   0],\n",
       "        [  0,   0,   0],\n",
       "        ...,\n",
       "        [127,   0,   0],\n",
       "        [127,   0,   0],\n",
       "        [127,   0,   0]]], dtype=int8)"
      ]
     },
     "execution_count": 11,
     "metadata": {},
     "output_type": "execute_result"
    }
   ],
   "source": [
    "# 绘制圆形，参数依次为圆心坐标、直径、颜色、线宽等\n",
    "cv2.circle(back_img,(447,63), 63, (0,0,255), -1)"
   ]
  },
  {
   "cell_type": "code",
   "execution_count": 13,
   "metadata": {},
   "outputs": [
    {
     "data": {
      "text/plain": [
       "array([[[127,   0,   0],\n",
       "        [127,   0,   0],\n",
       "        [127,   0,   0],\n",
       "        ...,\n",
       "        [  0, 127,   0],\n",
       "        [  0, 127,   0],\n",
       "        [  0, 127,   0]],\n",
       "\n",
       "       [[127,   0,   0],\n",
       "        [127,   0,   0],\n",
       "        [127,   0,   0],\n",
       "        ...,\n",
       "        [  0, 127,   0],\n",
       "        [  0, 127,   0],\n",
       "        [  0, 127,   0]],\n",
       "\n",
       "       [[127,   0,   0],\n",
       "        [127,   0,   0],\n",
       "        [127,   0,   0],\n",
       "        ...,\n",
       "        [  0, 127,   0],\n",
       "        [  0, 127,   0],\n",
       "        [  0, 127,   0]],\n",
       "\n",
       "       ...,\n",
       "\n",
       "       [[  0,   0,   0],\n",
       "        [  0,   0,   0],\n",
       "        [  0,   0,   0],\n",
       "        ...,\n",
       "        [127,   0,   0],\n",
       "        [127,   0,   0],\n",
       "        [127,   0,   0]],\n",
       "\n",
       "       [[  0,   0,   0],\n",
       "        [  0,   0,   0],\n",
       "        [  0,   0,   0],\n",
       "        ...,\n",
       "        [127,   0,   0],\n",
       "        [127,   0,   0],\n",
       "        [127,   0,   0]],\n",
       "\n",
       "       [[  0,   0,   0],\n",
       "        [  0,   0,   0],\n",
       "        [  0,   0,   0],\n",
       "        ...,\n",
       "        [127,   0,   0],\n",
       "        [127,   0,   0],\n",
       "        [127,   0,   0]]], dtype=int8)"
      ]
     },
     "execution_count": 13,
     "metadata": {},
     "output_type": "execute_result"
    }
   ],
   "source": [
    "# 绘制椭圆形\n",
    "cv2.ellipse(back_img,(256,256),(100,50),0,0,180,255,-1)"
   ]
  },
  {
   "cell_type": "code",
   "execution_count": 18,
   "metadata": {},
   "outputs": [
    {
     "data": {
      "text/plain": [
       "array([[[127,   0,   0],\n",
       "        [127,   0,   0],\n",
       "        [127,   0,   0],\n",
       "        ...,\n",
       "        [  0, 127,   0],\n",
       "        [  0, 127,   0],\n",
       "        [  0, 127,   0]],\n",
       "\n",
       "       [[127,   0,   0],\n",
       "        [127,   0,   0],\n",
       "        [127,   0,   0],\n",
       "        ...,\n",
       "        [  0, 127,   0],\n",
       "        [  0, 127,   0],\n",
       "        [  0, 127,   0]],\n",
       "\n",
       "       [[127,   0,   0],\n",
       "        [127,   0,   0],\n",
       "        [127,   0,   0],\n",
       "        ...,\n",
       "        [  0, 127,   0],\n",
       "        [  0, 127,   0],\n",
       "        [  0, 127,   0]],\n",
       "\n",
       "       ...,\n",
       "\n",
       "       [[  0,   0,   0],\n",
       "        [  0,   0,   0],\n",
       "        [  0,   0,   0],\n",
       "        ...,\n",
       "        [127,   0,   0],\n",
       "        [127,   0,   0],\n",
       "        [127,   0,   0]],\n",
       "\n",
       "       [[  0,   0,   0],\n",
       "        [  0,   0,   0],\n",
       "        [  0,   0,   0],\n",
       "        ...,\n",
       "        [127,   0,   0],\n",
       "        [127,   0,   0],\n",
       "        [127,   0,   0]],\n",
       "\n",
       "       [[  0,   0,   0],\n",
       "        [  0,   0,   0],\n",
       "        [  0,   0,   0],\n",
       "        ...,\n",
       "        [127,   0,   0],\n",
       "        [127,   0,   0],\n",
       "        [127,   0,   0]]], dtype=int8)"
      ]
     },
     "execution_count": 18,
     "metadata": {},
     "output_type": "execute_result"
    }
   ],
   "source": [
    "# 绘制多边形\n",
    "pts=np.array([[10,5],[20,30],[70,20],[50,10]], np.int32)    # 数据类型必须为int32\n",
    "pts=pts.reshape((-1,1,2))\n",
    "cv2.polylines(back_img, pts, False, (155, 0, 0))"
   ]
  },
  {
   "cell_type": "code",
   "execution_count": 22,
   "metadata": {},
   "outputs": [
    {
     "data": {
      "text/plain": [
       "array([[[127,   0,   0],\n",
       "        [127,   0,   0],\n",
       "        [127,   0,   0],\n",
       "        ...,\n",
       "        [  0, 127,   0],\n",
       "        [  0, 127,   0],\n",
       "        [  0, 127,   0]],\n",
       "\n",
       "       [[127,   0,   0],\n",
       "        [127,   0,   0],\n",
       "        [127,   0,   0],\n",
       "        ...,\n",
       "        [  0, 127,   0],\n",
       "        [  0, 127,   0],\n",
       "        [  0, 127,   0]],\n",
       "\n",
       "       [[127,   0,   0],\n",
       "        [127,   0,   0],\n",
       "        [127,   0,   0],\n",
       "        ...,\n",
       "        [  0, 127,   0],\n",
       "        [  0, 127,   0],\n",
       "        [  0, 127,   0]],\n",
       "\n",
       "       ...,\n",
       "\n",
       "       [[  0,   0,   0],\n",
       "        [  0,   0,   0],\n",
       "        [  0,   0,   0],\n",
       "        ...,\n",
       "        [127,   0,   0],\n",
       "        [127,   0,   0],\n",
       "        [127,   0,   0]],\n",
       "\n",
       "       [[  0,   0,   0],\n",
       "        [  0,   0,   0],\n",
       "        [  0,   0,   0],\n",
       "        ...,\n",
       "        [127,   0,   0],\n",
       "        [127,   0,   0],\n",
       "        [127,   0,   0]],\n",
       "\n",
       "       [[  0,   0,   0],\n",
       "        [  0,   0,   0],\n",
       "        [  0,   0,   0],\n",
       "        ...,\n",
       "        [127,   0,   0],\n",
       "        [127,   0,   0],\n",
       "        [127,   0,   0]]], dtype=int8)"
      ]
     },
     "execution_count": 22,
     "metadata": {},
     "output_type": "execute_result"
    }
   ],
   "source": [
    "# 添加文字\n",
    "font=cv2.FONT_HERSHEY_SIMPLEX   # 字体\n",
    "cv2.putText(back_img,'OpenCV',(10,500), font, 4,(255,255,255),2)"
   ]
  },
  {
   "cell_type": "code",
   "execution_count": 23,
   "metadata": {},
   "outputs": [
    {
     "data": {
      "image/png": "[encoded data removed]",
      "text/plain": [
       "<Figure size 432x288 with 1 Axes>"
      ]
     },
     "metadata": {},
     "output_type": "display_data"
    }
   ],
   "source": [
    "plt.imshow(back_img)\n",
    "plt.axis('off')\n",
    "plt.show()"
   ]
  },
  {
   "cell_type": "code",
   "execution_count": null,
   "metadata": {},
   "outputs": [],
   "source": []
  }
 ],
 "metadata": {
  "kernelspec": {
   "display_name": "Python 3",
   "language": "python",
   "name": "python3"
  },
  "language_info": {
   "codemirror_mode": {
    "name": "ipython",
    "version": 3
   },
   "file_extension": ".py",
   "mimetype": "text/x-python",
   "name": "python",
   "nbconvert_exporter": "python",
   "pygments_lexer": "ipython3",
   "version": "3.6.7"
  },
  "toc": {
   "base_numbering": 1,
   "nav_menu": {},
   "number_sections": true,
   "sideBar": true,
   "skip_h1_title": false,
   "title_cell": "Table of Contents",
   "title_sidebar": "Contents",
   "toc_cell": false,
   "toc_position": {},
   "toc_section_display": true,
   "toc_window_display": false
  }
 },
 "nbformat": 4,
 "nbformat_minor": 2
}
